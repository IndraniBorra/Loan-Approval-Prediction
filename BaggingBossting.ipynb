{
 "cells": [
  {
   "cell_type": "code",
   "execution_count": 1,
   "id": "f0937c88",
   "metadata": {
    "execution": {
     "iopub.execute_input": "2024-11-21T14:46:33.726089Z",
     "iopub.status.busy": "2024-11-21T14:46:33.725476Z",
     "iopub.status.idle": "2024-11-21T14:46:37.025827Z",
     "shell.execute_reply": "2024-11-21T14:46:37.024633Z"
    },
    "papermill": {
     "duration": 3.315024,
     "end_time": "2024-11-21T14:46:37.028507",
     "exception": false,
     "start_time": "2024-11-21T14:46:33.713483",
     "status": "completed"
    },
    "tags": []
   },
   "outputs": [],
   "source": [
    "\n",
    "import matplotlib.pyplot as plt\n",
    "import seaborn as sns\n",
    "import plotly.express as px\n",
    "import numpy as np\n",
    "import pandas as pd\n",
    "\n",
    "\n",
    "from sklearn.preprocessing import StandardScaler\n",
    "from sklearn.preprocessing import MinMaxScaler , StandardScaler\n",
    "from sklearn.model_selection import train_test_split , GridSearchCV\n",
    "\n",
    "\n",
    "from sklearn.linear_model import LogisticRegression\n",
    "from sklearn.svm import SVC\n",
    "from sklearn.neighbors import KNeighborsClassifier\n",
    "\n",
    "\n",
    "from sklearn.metrics import classification_report, confusion_matrix , accuracy_score\n",
    "#import sklearn.metrics as metrics\n",
    "from sklearn.metrics import roc_curve, auc\n",
    "from sklearn.metrics import roc_auc_score\n",
    "\n",
    "from sklearn.utils import shuffle\n",
    "\n",
    "\n",
    "import warnings\n",
    "warnings.filterwarnings(\"ignore\")"
   ]
  },
  {
   "cell_type": "code",
   "execution_count": 2,
   "id": "4db3f835",
   "metadata": {
    "execution": {
     "iopub.execute_input": "2024-11-21T14:46:37.049159Z",
     "iopub.status.busy": "2024-11-21T14:46:37.048548Z",
     "iopub.status.idle": "2024-11-21T14:46:37.228861Z",
     "shell.execute_reply": "2024-11-21T14:46:37.227673Z"
    },
    "papermill": {
     "duration": 0.19352,
     "end_time": "2024-11-21T14:46:37.231213",
     "exception": false,
     "start_time": "2024-11-21T14:46:37.037693",
     "status": "completed"
    },
    "tags": []
   },
   "outputs": [
    {
     "data": {
      "text/html": [
       "<div>\n",
       "<style scoped>\n",
       "    .dataframe tbody tr th:only-of-type {\n",
       "        vertical-align: middle;\n",
       "    }\n",
       "\n",
       "    .dataframe tbody tr th {\n",
       "        vertical-align: top;\n",
       "    }\n",
       "\n",
       "    .dataframe thead th {\n",
       "        text-align: right;\n",
       "    }\n",
       "</style>\n",
       "<table border=\"1\" class=\"dataframe\">\n",
       "  <thead>\n",
       "    <tr style=\"text-align: right;\">\n",
       "      <th></th>\n",
       "      <th>person_age</th>\n",
       "      <th>person_gender</th>\n",
       "      <th>person_education</th>\n",
       "      <th>person_income</th>\n",
       "      <th>person_emp_exp</th>\n",
       "      <th>person_home_ownership</th>\n",
       "      <th>loan_amnt</th>\n",
       "      <th>loan_intent</th>\n",
       "      <th>loan_int_rate</th>\n",
       "      <th>loan_percent_income</th>\n",
       "      <th>cb_person_cred_hist_length</th>\n",
       "      <th>credit_score</th>\n",
       "      <th>previous_loan_defaults_on_file</th>\n",
       "      <th>loan_status</th>\n",
       "    </tr>\n",
       "  </thead>\n",
       "  <tbody>\n",
       "    <tr>\n",
       "      <th>0</th>\n",
       "      <td>22.0</td>\n",
       "      <td>female</td>\n",
       "      <td>Master</td>\n",
       "      <td>71948.0</td>\n",
       "      <td>0</td>\n",
       "      <td>RENT</td>\n",
       "      <td>35000.0</td>\n",
       "      <td>PERSONAL</td>\n",
       "      <td>16.02</td>\n",
       "      <td>0.49</td>\n",
       "      <td>3.0</td>\n",
       "      <td>561</td>\n",
       "      <td>No</td>\n",
       "      <td>1</td>\n",
       "    </tr>\n",
       "    <tr>\n",
       "      <th>1</th>\n",
       "      <td>21.0</td>\n",
       "      <td>female</td>\n",
       "      <td>High School</td>\n",
       "      <td>12282.0</td>\n",
       "      <td>0</td>\n",
       "      <td>OWN</td>\n",
       "      <td>1000.0</td>\n",
       "      <td>EDUCATION</td>\n",
       "      <td>11.14</td>\n",
       "      <td>0.08</td>\n",
       "      <td>2.0</td>\n",
       "      <td>504</td>\n",
       "      <td>Yes</td>\n",
       "      <td>0</td>\n",
       "    </tr>\n",
       "    <tr>\n",
       "      <th>2</th>\n",
       "      <td>25.0</td>\n",
       "      <td>female</td>\n",
       "      <td>High School</td>\n",
       "      <td>12438.0</td>\n",
       "      <td>3</td>\n",
       "      <td>MORTGAGE</td>\n",
       "      <td>5500.0</td>\n",
       "      <td>MEDICAL</td>\n",
       "      <td>12.87</td>\n",
       "      <td>0.44</td>\n",
       "      <td>3.0</td>\n",
       "      <td>635</td>\n",
       "      <td>No</td>\n",
       "      <td>1</td>\n",
       "    </tr>\n",
       "    <tr>\n",
       "      <th>3</th>\n",
       "      <td>23.0</td>\n",
       "      <td>female</td>\n",
       "      <td>Bachelor</td>\n",
       "      <td>79753.0</td>\n",
       "      <td>0</td>\n",
       "      <td>RENT</td>\n",
       "      <td>35000.0</td>\n",
       "      <td>MEDICAL</td>\n",
       "      <td>15.23</td>\n",
       "      <td>0.44</td>\n",
       "      <td>2.0</td>\n",
       "      <td>675</td>\n",
       "      <td>No</td>\n",
       "      <td>1</td>\n",
       "    </tr>\n",
       "    <tr>\n",
       "      <th>4</th>\n",
       "      <td>24.0</td>\n",
       "      <td>male</td>\n",
       "      <td>Master</td>\n",
       "      <td>66135.0</td>\n",
       "      <td>1</td>\n",
       "      <td>RENT</td>\n",
       "      <td>35000.0</td>\n",
       "      <td>MEDICAL</td>\n",
       "      <td>14.27</td>\n",
       "      <td>0.53</td>\n",
       "      <td>4.0</td>\n",
       "      <td>586</td>\n",
       "      <td>No</td>\n",
       "      <td>1</td>\n",
       "    </tr>\n",
       "    <tr>\n",
       "      <th>...</th>\n",
       "      <td>...</td>\n",
       "      <td>...</td>\n",
       "      <td>...</td>\n",
       "      <td>...</td>\n",
       "      <td>...</td>\n",
       "      <td>...</td>\n",
       "      <td>...</td>\n",
       "      <td>...</td>\n",
       "      <td>...</td>\n",
       "      <td>...</td>\n",
       "      <td>...</td>\n",
       "      <td>...</td>\n",
       "      <td>...</td>\n",
       "      <td>...</td>\n",
       "    </tr>\n",
       "    <tr>\n",
       "      <th>44995</th>\n",
       "      <td>27.0</td>\n",
       "      <td>male</td>\n",
       "      <td>Associate</td>\n",
       "      <td>47971.0</td>\n",
       "      <td>6</td>\n",
       "      <td>RENT</td>\n",
       "      <td>15000.0</td>\n",
       "      <td>MEDICAL</td>\n",
       "      <td>15.66</td>\n",
       "      <td>0.31</td>\n",
       "      <td>3.0</td>\n",
       "      <td>645</td>\n",
       "      <td>No</td>\n",
       "      <td>1</td>\n",
       "    </tr>\n",
       "    <tr>\n",
       "      <th>44996</th>\n",
       "      <td>37.0</td>\n",
       "      <td>female</td>\n",
       "      <td>Associate</td>\n",
       "      <td>65800.0</td>\n",
       "      <td>17</td>\n",
       "      <td>RENT</td>\n",
       "      <td>9000.0</td>\n",
       "      <td>HOMEIMPROVEMENT</td>\n",
       "      <td>14.07</td>\n",
       "      <td>0.14</td>\n",
       "      <td>11.0</td>\n",
       "      <td>621</td>\n",
       "      <td>No</td>\n",
       "      <td>1</td>\n",
       "    </tr>\n",
       "    <tr>\n",
       "      <th>44997</th>\n",
       "      <td>33.0</td>\n",
       "      <td>male</td>\n",
       "      <td>Associate</td>\n",
       "      <td>56942.0</td>\n",
       "      <td>7</td>\n",
       "      <td>RENT</td>\n",
       "      <td>2771.0</td>\n",
       "      <td>DEBTCONSOLIDATION</td>\n",
       "      <td>10.02</td>\n",
       "      <td>0.05</td>\n",
       "      <td>10.0</td>\n",
       "      <td>668</td>\n",
       "      <td>No</td>\n",
       "      <td>1</td>\n",
       "    </tr>\n",
       "    <tr>\n",
       "      <th>44998</th>\n",
       "      <td>29.0</td>\n",
       "      <td>male</td>\n",
       "      <td>Bachelor</td>\n",
       "      <td>33164.0</td>\n",
       "      <td>4</td>\n",
       "      <td>RENT</td>\n",
       "      <td>12000.0</td>\n",
       "      <td>EDUCATION</td>\n",
       "      <td>13.23</td>\n",
       "      <td>0.36</td>\n",
       "      <td>6.0</td>\n",
       "      <td>604</td>\n",
       "      <td>No</td>\n",
       "      <td>1</td>\n",
       "    </tr>\n",
       "    <tr>\n",
       "      <th>44999</th>\n",
       "      <td>24.0</td>\n",
       "      <td>male</td>\n",
       "      <td>High School</td>\n",
       "      <td>51609.0</td>\n",
       "      <td>1</td>\n",
       "      <td>RENT</td>\n",
       "      <td>6665.0</td>\n",
       "      <td>DEBTCONSOLIDATION</td>\n",
       "      <td>17.05</td>\n",
       "      <td>0.13</td>\n",
       "      <td>3.0</td>\n",
       "      <td>628</td>\n",
       "      <td>No</td>\n",
       "      <td>1</td>\n",
       "    </tr>\n",
       "  </tbody>\n",
       "</table>\n",
       "<p>45000 rows × 14 columns</p>\n",
       "</div>"
      ],
      "text/plain": [
       "       person_age person_gender person_education  person_income  \\\n",
       "0            22.0        female           Master        71948.0   \n",
       "1            21.0        female      High School        12282.0   \n",
       "2            25.0        female      High School        12438.0   \n",
       "3            23.0        female         Bachelor        79753.0   \n",
       "4            24.0          male           Master        66135.0   \n",
       "...           ...           ...              ...            ...   \n",
       "44995        27.0          male        Associate        47971.0   \n",
       "44996        37.0        female        Associate        65800.0   \n",
       "44997        33.0          male        Associate        56942.0   \n",
       "44998        29.0          male         Bachelor        33164.0   \n",
       "44999        24.0          male      High School        51609.0   \n",
       "\n",
       "       person_emp_exp person_home_ownership  loan_amnt        loan_intent  \\\n",
       "0                   0                  RENT    35000.0           PERSONAL   \n",
       "1                   0                   OWN     1000.0          EDUCATION   \n",
       "2                   3              MORTGAGE     5500.0            MEDICAL   \n",
       "3                   0                  RENT    35000.0            MEDICAL   \n",
       "4                   1                  RENT    35000.0            MEDICAL   \n",
       "...               ...                   ...        ...                ...   \n",
       "44995               6                  RENT    15000.0            MEDICAL   \n",
       "44996              17                  RENT     9000.0    HOMEIMPROVEMENT   \n",
       "44997               7                  RENT     2771.0  DEBTCONSOLIDATION   \n",
       "44998               4                  RENT    12000.0          EDUCATION   \n",
       "44999               1                  RENT     6665.0  DEBTCONSOLIDATION   \n",
       "\n",
       "       loan_int_rate  loan_percent_income  cb_person_cred_hist_length  \\\n",
       "0              16.02                 0.49                         3.0   \n",
       "1              11.14                 0.08                         2.0   \n",
       "2              12.87                 0.44                         3.0   \n",
       "3              15.23                 0.44                         2.0   \n",
       "4              14.27                 0.53                         4.0   \n",
       "...              ...                  ...                         ...   \n",
       "44995          15.66                 0.31                         3.0   \n",
       "44996          14.07                 0.14                        11.0   \n",
       "44997          10.02                 0.05                        10.0   \n",
       "44998          13.23                 0.36                         6.0   \n",
       "44999          17.05                 0.13                         3.0   \n",
       "\n",
       "       credit_score previous_loan_defaults_on_file  loan_status  \n",
       "0               561                             No            1  \n",
       "1               504                            Yes            0  \n",
       "2               635                             No            1  \n",
       "3               675                             No            1  \n",
       "4               586                             No            1  \n",
       "...             ...                            ...          ...  \n",
       "44995           645                             No            1  \n",
       "44996           621                             No            1  \n",
       "44997           668                             No            1  \n",
       "44998           604                             No            1  \n",
       "44999           628                             No            1  \n",
       "\n",
       "[45000 rows x 14 columns]"
      ]
     },
     "execution_count": 2,
     "metadata": {},
     "output_type": "execute_result"
    }
   ],
   "source": [
    "df = pd.read_csv('loan_data.csv')\n",
    "df"
   ]
  },
  {
   "cell_type": "code",
   "execution_count": 3,
   "id": "a2401816",
   "metadata": {
    "execution": {
     "iopub.execute_input": "2024-11-21T14:46:37.251715Z",
     "iopub.status.busy": "2024-11-21T14:46:37.251320Z",
     "iopub.status.idle": "2024-11-21T14:46:37.264919Z",
     "shell.execute_reply": "2024-11-21T14:46:37.263784Z"
    },
    "papermill": {
     "duration": 0.02628,
     "end_time": "2024-11-21T14:46:37.267004",
     "exception": false,
     "start_time": "2024-11-21T14:46:37.240724",
     "status": "completed"
    },
    "tags": []
   },
   "outputs": [
    {
     "data": {
      "text/plain": [
       "array(['Master', 'High School', 'Bachelor', 'Associate', 'Doctorate'],\n",
       "      dtype=object)"
      ]
     },
     "execution_count": 3,
     "metadata": {},
     "output_type": "execute_result"
    }
   ],
   "source": [
    "df['person_education'].unique()"
   ]
  },
  {
   "cell_type": "code",
   "execution_count": 4,
   "id": "9f13ed3a",
   "metadata": {
    "execution": {
     "iopub.execute_input": "2024-11-21T14:46:37.288375Z",
     "iopub.status.busy": "2024-11-21T14:46:37.287929Z",
     "iopub.status.idle": "2024-11-21T14:46:37.297208Z",
     "shell.execute_reply": "2024-11-21T14:46:37.296185Z"
    },
    "papermill": {
     "duration": 0.022545,
     "end_time": "2024-11-21T14:46:37.299453",
     "exception": false,
     "start_time": "2024-11-21T14:46:37.276908",
     "status": "completed"
    },
    "tags": []
   },
   "outputs": [
    {
     "data": {
      "text/plain": [
       "array(['PERSONAL', 'EDUCATION', 'MEDICAL', 'VENTURE', 'HOMEIMPROVEMENT',\n",
       "       'DEBTCONSOLIDATION'], dtype=object)"
      ]
     },
     "execution_count": 4,
     "metadata": {},
     "output_type": "execute_result"
    }
   ],
   "source": [
    "df['loan_intent'].unique()"
   ]
  },
  {
   "cell_type": "code",
   "execution_count": 5,
   "id": "2628aad2",
   "metadata": {
    "execution": {
     "iopub.execute_input": "2024-11-21T14:46:37.320019Z",
     "iopub.status.busy": "2024-11-21T14:46:37.319594Z",
     "iopub.status.idle": "2024-11-21T14:46:37.329092Z",
     "shell.execute_reply": "2024-11-21T14:46:37.327712Z"
    },
    "papermill": {
     "duration": 0.022681,
     "end_time": "2024-11-21T14:46:37.331557",
     "exception": false,
     "start_time": "2024-11-21T14:46:37.308876",
     "status": "completed"
    },
    "tags": []
   },
   "outputs": [
    {
     "data": {
      "text/plain": [
       "array(['RENT', 'OWN', 'MORTGAGE', 'OTHER'], dtype=object)"
      ]
     },
     "execution_count": 5,
     "metadata": {},
     "output_type": "execute_result"
    }
   ],
   "source": [
    "df['person_home_ownership'].unique()"
   ]
  },
  {
   "cell_type": "code",
   "execution_count": 6,
   "id": "f0625997",
   "metadata": {
    "execution": {
     "iopub.execute_input": "2024-11-21T14:46:37.352449Z",
     "iopub.status.busy": "2024-11-21T14:46:37.351987Z",
     "iopub.status.idle": "2024-11-21T14:46:37.362879Z",
     "shell.execute_reply": "2024-11-21T14:46:37.361738Z"
    },
    "papermill": {
     "duration": 0.023801,
     "end_time": "2024-11-21T14:46:37.365013",
     "exception": false,
     "start_time": "2024-11-21T14:46:37.341212",
     "status": "completed"
    },
    "tags": []
   },
   "outputs": [
    {
     "data": {
      "text/plain": [
       "0    RENT\n",
       "Name: person_home_ownership, dtype: object"
      ]
     },
     "execution_count": 6,
     "metadata": {},
     "output_type": "execute_result"
    }
   ],
   "source": [
    "df['person_home_ownership'].mode()"
   ]
  },
  {
   "cell_type": "code",
   "execution_count": 7,
   "id": "558b3ab6",
   "metadata": {
    "execution": {
     "iopub.execute_input": "2024-11-21T14:46:37.386575Z",
     "iopub.status.busy": "2024-11-21T14:46:37.386151Z",
     "iopub.status.idle": "2024-11-21T14:46:37.427486Z",
     "shell.execute_reply": "2024-11-21T14:46:37.425653Z"
    },
    "papermill": {
     "duration": 0.056115,
     "end_time": "2024-11-21T14:46:37.430798",
     "exception": false,
     "start_time": "2024-11-21T14:46:37.374683",
     "status": "completed"
    },
    "tags": []
   },
   "outputs": [
    {
     "name": "stdout",
     "output_type": "stream",
     "text": [
      "<class 'pandas.core.frame.DataFrame'>\n",
      "RangeIndex: 45000 entries, 0 to 44999\n",
      "Data columns (total 14 columns):\n",
      " #   Column                          Non-Null Count  Dtype  \n",
      "---  ------                          --------------  -----  \n",
      " 0   person_age                      45000 non-null  float64\n",
      " 1   person_gender                   45000 non-null  object \n",
      " 2   person_education                45000 non-null  object \n",
      " 3   person_income                   45000 non-null  float64\n",
      " 4   person_emp_exp                  45000 non-null  int64  \n",
      " 5   person_home_ownership           45000 non-null  object \n",
      " 6   loan_amnt                       45000 non-null  float64\n",
      " 7   loan_intent                     45000 non-null  object \n",
      " 8   loan_int_rate                   45000 non-null  float64\n",
      " 9   loan_percent_income             45000 non-null  float64\n",
      " 10  cb_person_cred_hist_length      45000 non-null  float64\n",
      " 11  credit_score                    45000 non-null  int64  \n",
      " 12  previous_loan_defaults_on_file  45000 non-null  object \n",
      " 13  loan_status                     45000 non-null  int64  \n",
      "dtypes: float64(6), int64(3), object(5)\n",
      "memory usage: 4.8+ MB\n"
     ]
    }
   ],
   "source": [
    "df.info()"
   ]
  },
  {
   "cell_type": "code",
   "execution_count": 8,
   "id": "c529180c",
   "metadata": {
    "execution": {
     "iopub.execute_input": "2024-11-21T14:46:37.453282Z",
     "iopub.status.busy": "2024-11-21T14:46:37.452870Z",
     "iopub.status.idle": "2024-11-21T14:46:37.500073Z",
     "shell.execute_reply": "2024-11-21T14:46:37.498574Z"
    },
    "papermill": {
     "duration": 0.061459,
     "end_time": "2024-11-21T14:46:37.502580",
     "exception": false,
     "start_time": "2024-11-21T14:46:37.441121",
     "status": "completed"
    },
    "tags": []
   },
   "outputs": [
    {
     "data": {
      "text/html": [
       "<div>\n",
       "<style scoped>\n",
       "    .dataframe tbody tr th:only-of-type {\n",
       "        vertical-align: middle;\n",
       "    }\n",
       "\n",
       "    .dataframe tbody tr th {\n",
       "        vertical-align: top;\n",
       "    }\n",
       "\n",
       "    .dataframe thead th {\n",
       "        text-align: right;\n",
       "    }\n",
       "</style>\n",
       "<table border=\"1\" class=\"dataframe\">\n",
       "  <thead>\n",
       "    <tr style=\"text-align: right;\">\n",
       "      <th></th>\n",
       "      <th>person_age</th>\n",
       "      <th>person_gender</th>\n",
       "      <th>person_education</th>\n",
       "      <th>person_income</th>\n",
       "      <th>person_emp_exp</th>\n",
       "      <th>person_home_ownership</th>\n",
       "      <th>loan_amnt</th>\n",
       "      <th>loan_intent</th>\n",
       "      <th>loan_int_rate</th>\n",
       "      <th>loan_percent_income</th>\n",
       "      <th>cb_person_cred_hist_length</th>\n",
       "      <th>credit_score</th>\n",
       "      <th>previous_loan_defaults_on_file</th>\n",
       "      <th>loan_status</th>\n",
       "    </tr>\n",
       "  </thead>\n",
       "  <tbody>\n",
       "    <tr>\n",
       "      <th>0</th>\n",
       "      <td>22.0</td>\n",
       "      <td>0</td>\n",
       "      <td>2</td>\n",
       "      <td>71948.0</td>\n",
       "      <td>0</td>\n",
       "      <td>1</td>\n",
       "      <td>35000.0</td>\n",
       "      <td>0</td>\n",
       "      <td>16.02</td>\n",
       "      <td>0.49</td>\n",
       "      <td>3.0</td>\n",
       "      <td>561</td>\n",
       "      <td>0</td>\n",
       "      <td>1</td>\n",
       "    </tr>\n",
       "    <tr>\n",
       "      <th>1</th>\n",
       "      <td>21.0</td>\n",
       "      <td>0</td>\n",
       "      <td>0</td>\n",
       "      <td>12282.0</td>\n",
       "      <td>0</td>\n",
       "      <td>2</td>\n",
       "      <td>1000.0</td>\n",
       "      <td>1</td>\n",
       "      <td>11.14</td>\n",
       "      <td>0.08</td>\n",
       "      <td>2.0</td>\n",
       "      <td>504</td>\n",
       "      <td>1</td>\n",
       "      <td>0</td>\n",
       "    </tr>\n",
       "    <tr>\n",
       "      <th>2</th>\n",
       "      <td>25.0</td>\n",
       "      <td>0</td>\n",
       "      <td>0</td>\n",
       "      <td>12438.0</td>\n",
       "      <td>3</td>\n",
       "      <td>0</td>\n",
       "      <td>5500.0</td>\n",
       "      <td>2</td>\n",
       "      <td>12.87</td>\n",
       "      <td>0.44</td>\n",
       "      <td>3.0</td>\n",
       "      <td>635</td>\n",
       "      <td>0</td>\n",
       "      <td>1</td>\n",
       "    </tr>\n",
       "    <tr>\n",
       "      <th>3</th>\n",
       "      <td>23.0</td>\n",
       "      <td>0</td>\n",
       "      <td>1</td>\n",
       "      <td>79753.0</td>\n",
       "      <td>0</td>\n",
       "      <td>1</td>\n",
       "      <td>35000.0</td>\n",
       "      <td>2</td>\n",
       "      <td>15.23</td>\n",
       "      <td>0.44</td>\n",
       "      <td>2.0</td>\n",
       "      <td>675</td>\n",
       "      <td>0</td>\n",
       "      <td>1</td>\n",
       "    </tr>\n",
       "    <tr>\n",
       "      <th>4</th>\n",
       "      <td>24.0</td>\n",
       "      <td>1</td>\n",
       "      <td>2</td>\n",
       "      <td>66135.0</td>\n",
       "      <td>1</td>\n",
       "      <td>1</td>\n",
       "      <td>35000.0</td>\n",
       "      <td>2</td>\n",
       "      <td>14.27</td>\n",
       "      <td>0.53</td>\n",
       "      <td>4.0</td>\n",
       "      <td>586</td>\n",
       "      <td>0</td>\n",
       "      <td>1</td>\n",
       "    </tr>\n",
       "    <tr>\n",
       "      <th>...</th>\n",
       "      <td>...</td>\n",
       "      <td>...</td>\n",
       "      <td>...</td>\n",
       "      <td>...</td>\n",
       "      <td>...</td>\n",
       "      <td>...</td>\n",
       "      <td>...</td>\n",
       "      <td>...</td>\n",
       "      <td>...</td>\n",
       "      <td>...</td>\n",
       "      <td>...</td>\n",
       "      <td>...</td>\n",
       "      <td>...</td>\n",
       "      <td>...</td>\n",
       "    </tr>\n",
       "    <tr>\n",
       "      <th>44995</th>\n",
       "      <td>27.0</td>\n",
       "      <td>1</td>\n",
       "      <td>3</td>\n",
       "      <td>47971.0</td>\n",
       "      <td>6</td>\n",
       "      <td>1</td>\n",
       "      <td>15000.0</td>\n",
       "      <td>2</td>\n",
       "      <td>15.66</td>\n",
       "      <td>0.31</td>\n",
       "      <td>3.0</td>\n",
       "      <td>645</td>\n",
       "      <td>0</td>\n",
       "      <td>1</td>\n",
       "    </tr>\n",
       "    <tr>\n",
       "      <th>44996</th>\n",
       "      <td>37.0</td>\n",
       "      <td>0</td>\n",
       "      <td>3</td>\n",
       "      <td>65800.0</td>\n",
       "      <td>17</td>\n",
       "      <td>1</td>\n",
       "      <td>9000.0</td>\n",
       "      <td>4</td>\n",
       "      <td>14.07</td>\n",
       "      <td>0.14</td>\n",
       "      <td>11.0</td>\n",
       "      <td>621</td>\n",
       "      <td>0</td>\n",
       "      <td>1</td>\n",
       "    </tr>\n",
       "    <tr>\n",
       "      <th>44997</th>\n",
       "      <td>33.0</td>\n",
       "      <td>1</td>\n",
       "      <td>3</td>\n",
       "      <td>56942.0</td>\n",
       "      <td>7</td>\n",
       "      <td>1</td>\n",
       "      <td>2771.0</td>\n",
       "      <td>5</td>\n",
       "      <td>10.02</td>\n",
       "      <td>0.05</td>\n",
       "      <td>10.0</td>\n",
       "      <td>668</td>\n",
       "      <td>0</td>\n",
       "      <td>1</td>\n",
       "    </tr>\n",
       "    <tr>\n",
       "      <th>44998</th>\n",
       "      <td>29.0</td>\n",
       "      <td>1</td>\n",
       "      <td>1</td>\n",
       "      <td>33164.0</td>\n",
       "      <td>4</td>\n",
       "      <td>1</td>\n",
       "      <td>12000.0</td>\n",
       "      <td>1</td>\n",
       "      <td>13.23</td>\n",
       "      <td>0.36</td>\n",
       "      <td>6.0</td>\n",
       "      <td>604</td>\n",
       "      <td>0</td>\n",
       "      <td>1</td>\n",
       "    </tr>\n",
       "    <tr>\n",
       "      <th>44999</th>\n",
       "      <td>24.0</td>\n",
       "      <td>1</td>\n",
       "      <td>0</td>\n",
       "      <td>51609.0</td>\n",
       "      <td>1</td>\n",
       "      <td>1</td>\n",
       "      <td>6665.0</td>\n",
       "      <td>5</td>\n",
       "      <td>17.05</td>\n",
       "      <td>0.13</td>\n",
       "      <td>3.0</td>\n",
       "      <td>628</td>\n",
       "      <td>0</td>\n",
       "      <td>1</td>\n",
       "    </tr>\n",
       "  </tbody>\n",
       "</table>\n",
       "<p>45000 rows × 14 columns</p>\n",
       "</div>"
      ],
      "text/plain": [
       "       person_age  person_gender  person_education  person_income  \\\n",
       "0            22.0              0                 2        71948.0   \n",
       "1            21.0              0                 0        12282.0   \n",
       "2            25.0              0                 0        12438.0   \n",
       "3            23.0              0                 1        79753.0   \n",
       "4            24.0              1                 2        66135.0   \n",
       "...           ...            ...               ...            ...   \n",
       "44995        27.0              1                 3        47971.0   \n",
       "44996        37.0              0                 3        65800.0   \n",
       "44997        33.0              1                 3        56942.0   \n",
       "44998        29.0              1                 1        33164.0   \n",
       "44999        24.0              1                 0        51609.0   \n",
       "\n",
       "       person_emp_exp  person_home_ownership  loan_amnt  loan_intent  \\\n",
       "0                   0                      1    35000.0            0   \n",
       "1                   0                      2     1000.0            1   \n",
       "2                   3                      0     5500.0            2   \n",
       "3                   0                      1    35000.0            2   \n",
       "4                   1                      1    35000.0            2   \n",
       "...               ...                    ...        ...          ...   \n",
       "44995               6                      1    15000.0            2   \n",
       "44996              17                      1     9000.0            4   \n",
       "44997               7                      1     2771.0            5   \n",
       "44998               4                      1    12000.0            1   \n",
       "44999               1                      1     6665.0            5   \n",
       "\n",
       "       loan_int_rate  loan_percent_income  cb_person_cred_hist_length  \\\n",
       "0              16.02                 0.49                         3.0   \n",
       "1              11.14                 0.08                         2.0   \n",
       "2              12.87                 0.44                         3.0   \n",
       "3              15.23                 0.44                         2.0   \n",
       "4              14.27                 0.53                         4.0   \n",
       "...              ...                  ...                         ...   \n",
       "44995          15.66                 0.31                         3.0   \n",
       "44996          14.07                 0.14                        11.0   \n",
       "44997          10.02                 0.05                        10.0   \n",
       "44998          13.23                 0.36                         6.0   \n",
       "44999          17.05                 0.13                         3.0   \n",
       "\n",
       "       credit_score  previous_loan_defaults_on_file  loan_status  \n",
       "0               561                               0            1  \n",
       "1               504                               1            0  \n",
       "2               635                               0            1  \n",
       "3               675                               0            1  \n",
       "4               586                               0            1  \n",
       "...             ...                             ...          ...  \n",
       "44995           645                               0            1  \n",
       "44996           621                               0            1  \n",
       "44997           668                               0            1  \n",
       "44998           604                               0            1  \n",
       "44999           628                               0            1  \n",
       "\n",
       "[45000 rows x 14 columns]"
      ]
     },
     "execution_count": 8,
     "metadata": {},
     "output_type": "execute_result"
    }
   ],
   "source": [
    "df['person_gender']=df['person_gender'].map({\"female\":0 ,\"male\":1})\n",
    "df['person_education']=df['person_education'].map({\"High School\":0 ,\"Bachelor\":1 , 'Master':2 , 'Associate':3 , 'Doctorate':4})\n",
    "df['person_home_ownership']=df['person_home_ownership'].map({\"MORTGAGE\":0 ,\"RENT\":1 , 'OWN':2 , 'OTHER':3})\n",
    "df['loan_intent']=df['loan_intent'].map({\"PERSONAL\":0 ,\"EDUCATION\":1 , 'MEDICAL':2 , 'VENTURE':3 , 'HOMEIMPROVEMENT':4 , 'DEBTCONSOLIDATION':5})\n",
    "df['previous_loan_defaults_on_file']=df['previous_loan_defaults_on_file'].map({\"No\":0 ,\"Yes\":1})\n",
    "\n",
    "df"
   ]
  },
  {
   "cell_type": "code",
   "execution_count": 9,
   "id": "f797f191",
   "metadata": {
    "execution": {
     "iopub.execute_input": "2024-11-21T14:46:37.526722Z",
     "iopub.status.busy": "2024-11-21T14:46:37.526265Z",
     "iopub.status.idle": "2024-11-21T14:46:37.539416Z",
     "shell.execute_reply": "2024-11-21T14:46:37.538043Z"
    },
    "papermill": {
     "duration": 0.028708,
     "end_time": "2024-11-21T14:46:37.541894",
     "exception": false,
     "start_time": "2024-11-21T14:46:37.513186",
     "status": "completed"
    },
    "tags": []
   },
   "outputs": [
    {
     "name": "stdout",
     "output_type": "stream",
     "text": [
      "<class 'pandas.core.frame.DataFrame'>\n",
      "RangeIndex: 45000 entries, 0 to 44999\n",
      "Data columns (total 14 columns):\n",
      " #   Column                          Non-Null Count  Dtype  \n",
      "---  ------                          --------------  -----  \n",
      " 0   person_age                      45000 non-null  float64\n",
      " 1   person_gender                   45000 non-null  int64  \n",
      " 2   person_education                45000 non-null  int64  \n",
      " 3   person_income                   45000 non-null  float64\n",
      " 4   person_emp_exp                  45000 non-null  int64  \n",
      " 5   person_home_ownership           45000 non-null  int64  \n",
      " 6   loan_amnt                       45000 non-null  float64\n",
      " 7   loan_intent                     45000 non-null  int64  \n",
      " 8   loan_int_rate                   45000 non-null  float64\n",
      " 9   loan_percent_income             45000 non-null  float64\n",
      " 10  cb_person_cred_hist_length      45000 non-null  float64\n",
      " 11  credit_score                    45000 non-null  int64  \n",
      " 12  previous_loan_defaults_on_file  45000 non-null  int64  \n",
      " 13  loan_status                     45000 non-null  int64  \n",
      "dtypes: float64(6), int64(8)\n",
      "memory usage: 4.8 MB\n"
     ]
    }
   ],
   "source": [
    "df.info()"
   ]
  },
  {
   "cell_type": "code",
   "execution_count": 10,
   "id": "c577f1d0",
   "metadata": {
    "execution": {
     "iopub.execute_input": "2024-11-21T14:46:37.565583Z",
     "iopub.status.busy": "2024-11-21T14:46:37.565137Z",
     "iopub.status.idle": "2024-11-21T14:46:37.636046Z",
     "shell.execute_reply": "2024-11-21T14:46:37.634868Z"
    },
    "papermill": {
     "duration": 0.085163,
     "end_time": "2024-11-21T14:46:37.638438",
     "exception": false,
     "start_time": "2024-11-21T14:46:37.553275",
     "status": "completed"
    },
    "tags": []
   },
   "outputs": [
    {
     "data": {
      "text/html": [
       "<div>\n",
       "<style scoped>\n",
       "    .dataframe tbody tr th:only-of-type {\n",
       "        vertical-align: middle;\n",
       "    }\n",
       "\n",
       "    .dataframe tbody tr th {\n",
       "        vertical-align: top;\n",
       "    }\n",
       "\n",
       "    .dataframe thead th {\n",
       "        text-align: right;\n",
       "    }\n",
       "</style>\n",
       "<table border=\"1\" class=\"dataframe\">\n",
       "  <thead>\n",
       "    <tr style=\"text-align: right;\">\n",
       "      <th></th>\n",
       "      <th>person_age</th>\n",
       "      <th>person_gender</th>\n",
       "      <th>person_education</th>\n",
       "      <th>person_income</th>\n",
       "      <th>person_emp_exp</th>\n",
       "      <th>person_home_ownership</th>\n",
       "      <th>loan_amnt</th>\n",
       "      <th>loan_intent</th>\n",
       "      <th>loan_int_rate</th>\n",
       "      <th>loan_percent_income</th>\n",
       "      <th>cb_person_cred_hist_length</th>\n",
       "      <th>credit_score</th>\n",
       "      <th>previous_loan_defaults_on_file</th>\n",
       "      <th>loan_status</th>\n",
       "    </tr>\n",
       "  </thead>\n",
       "  <tbody>\n",
       "    <tr>\n",
       "      <th>count</th>\n",
       "      <td>45000.000000</td>\n",
       "      <td>45000.000000</td>\n",
       "      <td>45000.000000</td>\n",
       "      <td>4.500000e+04</td>\n",
       "      <td>45000.000000</td>\n",
       "      <td>45000.000000</td>\n",
       "      <td>45000.000000</td>\n",
       "      <td>45000.000000</td>\n",
       "      <td>45000.000000</td>\n",
       "      <td>45000.000000</td>\n",
       "      <td>45000.000000</td>\n",
       "      <td>45000.000000</td>\n",
       "      <td>45000.000000</td>\n",
       "      <td>45000.000000</td>\n",
       "    </tr>\n",
       "    <tr>\n",
       "      <th>mean</th>\n",
       "      <td>27.764178</td>\n",
       "      <td>0.552022</td>\n",
       "      <td>1.465044</td>\n",
       "      <td>8.031905e+04</td>\n",
       "      <td>5.410333</td>\n",
       "      <td>0.659911</td>\n",
       "      <td>9583.157556</td>\n",
       "      <td>2.323622</td>\n",
       "      <td>11.006606</td>\n",
       "      <td>0.139725</td>\n",
       "      <td>5.867489</td>\n",
       "      <td>632.608756</td>\n",
       "      <td>0.507956</td>\n",
       "      <td>0.222222</td>\n",
       "    </tr>\n",
       "    <tr>\n",
       "      <th>std</th>\n",
       "      <td>6.045108</td>\n",
       "      <td>0.497292</td>\n",
       "      <td>1.182487</td>\n",
       "      <td>8.042250e+04</td>\n",
       "      <td>6.063532</td>\n",
       "      <td>0.609255</td>\n",
       "      <td>6314.886691</td>\n",
       "      <td>1.672702</td>\n",
       "      <td>2.978808</td>\n",
       "      <td>0.087212</td>\n",
       "      <td>3.879702</td>\n",
       "      <td>50.435865</td>\n",
       "      <td>0.499942</td>\n",
       "      <td>0.415744</td>\n",
       "    </tr>\n",
       "    <tr>\n",
       "      <th>min</th>\n",
       "      <td>20.000000</td>\n",
       "      <td>0.000000</td>\n",
       "      <td>0.000000</td>\n",
       "      <td>8.000000e+03</td>\n",
       "      <td>0.000000</td>\n",
       "      <td>0.000000</td>\n",
       "      <td>500.000000</td>\n",
       "      <td>0.000000</td>\n",
       "      <td>5.420000</td>\n",
       "      <td>0.000000</td>\n",
       "      <td>2.000000</td>\n",
       "      <td>390.000000</td>\n",
       "      <td>0.000000</td>\n",
       "      <td>0.000000</td>\n",
       "    </tr>\n",
       "    <tr>\n",
       "      <th>25%</th>\n",
       "      <td>24.000000</td>\n",
       "      <td>0.000000</td>\n",
       "      <td>0.000000</td>\n",
       "      <td>4.720400e+04</td>\n",
       "      <td>1.000000</td>\n",
       "      <td>0.000000</td>\n",
       "      <td>5000.000000</td>\n",
       "      <td>1.000000</td>\n",
       "      <td>8.590000</td>\n",
       "      <td>0.070000</td>\n",
       "      <td>3.000000</td>\n",
       "      <td>601.000000</td>\n",
       "      <td>0.000000</td>\n",
       "      <td>0.000000</td>\n",
       "    </tr>\n",
       "    <tr>\n",
       "      <th>50%</th>\n",
       "      <td>26.000000</td>\n",
       "      <td>1.000000</td>\n",
       "      <td>1.000000</td>\n",
       "      <td>6.704800e+04</td>\n",
       "      <td>4.000000</td>\n",
       "      <td>1.000000</td>\n",
       "      <td>8000.000000</td>\n",
       "      <td>2.000000</td>\n",
       "      <td>11.010000</td>\n",
       "      <td>0.120000</td>\n",
       "      <td>4.000000</td>\n",
       "      <td>640.000000</td>\n",
       "      <td>1.000000</td>\n",
       "      <td>0.000000</td>\n",
       "    </tr>\n",
       "    <tr>\n",
       "      <th>75%</th>\n",
       "      <td>30.000000</td>\n",
       "      <td>1.000000</td>\n",
       "      <td>3.000000</td>\n",
       "      <td>9.578925e+04</td>\n",
       "      <td>8.000000</td>\n",
       "      <td>1.000000</td>\n",
       "      <td>12237.250000</td>\n",
       "      <td>4.000000</td>\n",
       "      <td>12.990000</td>\n",
       "      <td>0.190000</td>\n",
       "      <td>8.000000</td>\n",
       "      <td>670.000000</td>\n",
       "      <td>1.000000</td>\n",
       "      <td>0.000000</td>\n",
       "    </tr>\n",
       "    <tr>\n",
       "      <th>max</th>\n",
       "      <td>144.000000</td>\n",
       "      <td>1.000000</td>\n",
       "      <td>4.000000</td>\n",
       "      <td>7.200766e+06</td>\n",
       "      <td>125.000000</td>\n",
       "      <td>3.000000</td>\n",
       "      <td>35000.000000</td>\n",
       "      <td>5.000000</td>\n",
       "      <td>20.000000</td>\n",
       "      <td>0.660000</td>\n",
       "      <td>30.000000</td>\n",
       "      <td>850.000000</td>\n",
       "      <td>1.000000</td>\n",
       "      <td>1.000000</td>\n",
       "    </tr>\n",
       "  </tbody>\n",
       "</table>\n",
       "</div>"
      ],
      "text/plain": [
       "         person_age  person_gender  person_education  person_income  \\\n",
       "count  45000.000000   45000.000000      45000.000000   4.500000e+04   \n",
       "mean      27.764178       0.552022          1.465044   8.031905e+04   \n",
       "std        6.045108       0.497292          1.182487   8.042250e+04   \n",
       "min       20.000000       0.000000          0.000000   8.000000e+03   \n",
       "25%       24.000000       0.000000          0.000000   4.720400e+04   \n",
       "50%       26.000000       1.000000          1.000000   6.704800e+04   \n",
       "75%       30.000000       1.000000          3.000000   9.578925e+04   \n",
       "max      144.000000       1.000000          4.000000   7.200766e+06   \n",
       "\n",
       "       person_emp_exp  person_home_ownership     loan_amnt   loan_intent  \\\n",
       "count    45000.000000           45000.000000  45000.000000  45000.000000   \n",
       "mean         5.410333               0.659911   9583.157556      2.323622   \n",
       "std          6.063532               0.609255   6314.886691      1.672702   \n",
       "min          0.000000               0.000000    500.000000      0.000000   \n",
       "25%          1.000000               0.000000   5000.000000      1.000000   \n",
       "50%          4.000000               1.000000   8000.000000      2.000000   \n",
       "75%          8.000000               1.000000  12237.250000      4.000000   \n",
       "max        125.000000               3.000000  35000.000000      5.000000   \n",
       "\n",
       "       loan_int_rate  loan_percent_income  cb_person_cred_hist_length  \\\n",
       "count   45000.000000         45000.000000                45000.000000   \n",
       "mean       11.006606             0.139725                    5.867489   \n",
       "std         2.978808             0.087212                    3.879702   \n",
       "min         5.420000             0.000000                    2.000000   \n",
       "25%         8.590000             0.070000                    3.000000   \n",
       "50%        11.010000             0.120000                    4.000000   \n",
       "75%        12.990000             0.190000                    8.000000   \n",
       "max        20.000000             0.660000                   30.000000   \n",
       "\n",
       "       credit_score  previous_loan_defaults_on_file   loan_status  \n",
       "count  45000.000000                    45000.000000  45000.000000  \n",
       "mean     632.608756                        0.507956      0.222222  \n",
       "std       50.435865                        0.499942      0.415744  \n",
       "min      390.000000                        0.000000      0.000000  \n",
       "25%      601.000000                        0.000000      0.000000  \n",
       "50%      640.000000                        1.000000      0.000000  \n",
       "75%      670.000000                        1.000000      0.000000  \n",
       "max      850.000000                        1.000000      1.000000  "
      ]
     },
     "execution_count": 10,
     "metadata": {},
     "output_type": "execute_result"
    }
   ],
   "source": [
    "df.describe()"
   ]
  },
  {
   "cell_type": "code",
   "execution_count": 11,
   "id": "c4f610af",
   "metadata": {
    "execution": {
     "iopub.execute_input": "2024-11-21T14:46:37.662160Z",
     "iopub.status.busy": "2024-11-21T14:46:37.661761Z",
     "iopub.status.idle": "2024-11-21T14:46:37.937744Z",
     "shell.execute_reply": "2024-11-21T14:46:37.936485Z"
    },
    "papermill": {
     "duration": 0.291451,
     "end_time": "2024-11-21T14:46:37.941172",
     "exception": false,
     "start_time": "2024-11-21T14:46:37.649721",
     "status": "completed"
    },
    "tags": []
   },
   "outputs": [
    {
     "data": {
      "image/png": "[encoded data removed]",
      "text/plain": [
       "<Figure size 640x480 with 1 Axes>"
      ]
     },
     "metadata": {},
     "output_type": "display_data"
    }
   ],
   "source": [
    "fig = plt.boxplot( df['person_age'])"
   ]
  },
  {
   "cell_type": "code",
   "execution_count": 12,
   "id": "f08c7dd7",
   "metadata": {
    "execution": {
     "iopub.execute_input": "2024-11-21T14:46:37.974287Z",
     "iopub.status.busy": "2024-11-21T14:46:37.973586Z",
     "iopub.status.idle": "2024-11-21T14:46:37.988489Z",
     "shell.execute_reply": "2024-11-21T14:46:37.987432Z"
    },
    "papermill": {
     "duration": 0.035343,
     "end_time": "2024-11-21T14:46:37.991478",
     "exception": false,
     "start_time": "2024-11-21T14:46:37.956135",
     "status": "completed"
    },
    "tags": []
   },
   "outputs": [],
   "source": [
    "Q1 = df['person_age'].quantile(0.25)\n",
    "Q3 = df['person_age'].quantile(0.75)\n",
    "IQR = Q3 - Q1\n",
    "lower = Q1 - 1.5*IQR\n",
    "upper = Q3 + 1.5*IQR\n",
    "\n",
    "df['person_age'] = np.where(df['person_age'] < lower, lower, df[\"person_age\"])\n",
    "df['person_age'] = np.where(df['person_age'] > upper, upper, df[\"person_age\"])\n",
    "#clip\n",
    "#colum.clip(df, lower, upper)"
   ]
  },
  {
   "cell_type": "code",
   "execution_count": 13,
   "id": "7b0972f1",
   "metadata": {
    "execution": {
     "iopub.execute_input": "2024-11-21T14:46:38.036936Z",
     "iopub.status.busy": "2024-11-21T14:46:38.036090Z",
     "iopub.status.idle": "2024-11-21T14:46:38.224946Z",
     "shell.execute_reply": "2024-11-21T14:46:38.223467Z"
    },
    "papermill": {
     "duration": 0.21156,
     "end_time": "2024-11-21T14:46:38.228186",
     "exception": false,
     "start_time": "2024-11-21T14:46:38.016626",
     "status": "completed"
    },
    "tags": []
   },
   "outputs": [
    {
     "data": {
      "image/png": "[encoded data removed]",
      "text/plain": [
       "<Figure size 640x480 with 1 Axes>"
      ]
     },
     "metadata": {},
     "output_type": "display_data"
    }
   ],
   "source": [
    "fig = plt.boxplot( df['person_income'])"
   ]
  },
  {
   "cell_type": "code",
   "execution_count": 14,
   "id": "01e1c554",
   "metadata": {
    "execution": {
     "iopub.execute_input": "2024-11-21T14:46:38.255620Z",
     "iopub.status.busy": "2024-11-21T14:46:38.254659Z",
     "iopub.status.idle": "2024-11-21T14:46:38.268288Z",
     "shell.execute_reply": "2024-11-21T14:46:38.267254Z"
    },
    "papermill": {
     "duration": 0.029867,
     "end_time": "2024-11-21T14:46:38.270735",
     "exception": false,
     "start_time": "2024-11-21T14:46:38.240868",
     "status": "completed"
    },
    "tags": []
   },
   "outputs": [],
   "source": [
    "Q1 = df['person_income'].quantile(0.25)\n",
    "Q3 = df['person_income'].quantile(0.75)\n",
    "IQR = Q3 - Q1\n",
    "lower = Q1 - 1.5*IQR\n",
    "upper = Q3 + 1.5*IQR\n",
    "\n",
    "df['person_income'] = np.where(df['person_income'] < lower, lower, df[\"person_income\"])\n",
    "df['person_income'] = np.where(df['person_income'] > upper, upper, df[\"person_income\"])"
   ]
  },
  {
   "cell_type": "code",
   "execution_count": 15,
   "id": "23e5ce60",
   "metadata": {
    "execution": {
     "iopub.execute_input": "2024-11-21T14:46:38.297131Z",
     "iopub.status.busy": "2024-11-21T14:46:38.296160Z",
     "iopub.status.idle": "2024-11-21T14:46:38.440614Z",
     "shell.execute_reply": "2024-11-21T14:46:38.438723Z"
    },
    "papermill": {
     "duration": 0.163366,
     "end_time": "2024-11-21T14:46:38.445034",
     "exception": false,
     "start_time": "2024-11-21T14:46:38.281668",
     "status": "completed"
    },
    "tags": []
   },
   "outputs": [
    {
     "data": {
      "image/png": "[encoded data removed]",
      "text/plain": [
       "<Figure size 640x480 with 1 Axes>"
      ]
     },
     "metadata": {},
     "output_type": "display_data"
    }
   ],
   "source": [
    "fig = plt.boxplot( df['person_emp_exp'])"
   ]
  },
  {
   "cell_type": "code",
   "execution_count": 16,
   "id": "fa601d2b",
   "metadata": {
    "execution": {
     "iopub.execute_input": "2024-11-21T14:46:38.475432Z",
     "iopub.status.busy": "2024-11-21T14:46:38.474996Z",
     "iopub.status.idle": "2024-11-21T14:46:38.486714Z",
     "shell.execute_reply": "2024-11-21T14:46:38.485490Z"
    },
    "papermill": {
     "duration": 0.027066,
     "end_time": "2024-11-21T14:46:38.489400",
     "exception": false,
     "start_time": "2024-11-21T14:46:38.462334",
     "status": "completed"
    },
    "tags": []
   },
   "outputs": [],
   "source": [
    "Q1 = df['person_emp_exp'].quantile(0.25)\n",
    "Q3 = df['person_emp_exp'].quantile(0.75)\n",
    "IQR = Q3 - Q1\n",
    "lower = Q1 - 1.5*IQR\n",
    "upper = Q3 + 1.5*IQR\n",
    "\n",
    "df['person_emp_exp'] = np.where(df['person_emp_exp'] < lower, lower, df[\"person_emp_exp\"])\n",
    "df['person_emp_exp'] = np.where(df['person_emp_exp'] > upper, upper, df[\"person_emp_exp\"])"
   ]
  },
  {
   "cell_type": "code",
   "execution_count": 17,
   "id": "6357bd62",
   "metadata": {
    "execution": {
     "iopub.execute_input": "2024-11-21T14:46:38.513729Z",
     "iopub.status.busy": "2024-11-21T14:46:38.513310Z",
     "iopub.status.idle": "2024-11-21T14:46:38.840460Z",
     "shell.execute_reply": "2024-11-21T14:46:38.839270Z"
    },
    "papermill": {
     "duration": 0.342036,
     "end_time": "2024-11-21T14:46:38.842811",
     "exception": false,
     "start_time": "2024-11-21T14:46:38.500775",
     "status": "completed"
    },
    "tags": []
   },
   "outputs": [
    {
     "data": {
      "image/png": "[encoded data removed]",
      "text/plain": [
       "<Figure size 640x480 with 1 Axes>"
      ]
     },
     "metadata": {},
     "output_type": "display_data"
    }
   ],
   "source": [
    "fig = plt.boxplot( df['loan_amnt'])"
   ]
  },
  {
   "cell_type": "code",
   "execution_count": 18,
   "id": "a9b51d21",
   "metadata": {
    "execution": {
     "iopub.execute_input": "2024-11-21T14:46:38.867780Z",
     "iopub.status.busy": "2024-11-21T14:46:38.867345Z",
     "iopub.status.idle": "2024-11-21T14:46:38.879254Z",
     "shell.execute_reply": "2024-11-21T14:46:38.878031Z"
    },
    "papermill": {
     "duration": 0.027179,
     "end_time": "2024-11-21T14:46:38.881627",
     "exception": false,
     "start_time": "2024-11-21T14:46:38.854448",
     "status": "completed"
    },
    "tags": []
   },
   "outputs": [],
   "source": [
    "Q1 = df['loan_amnt'].quantile(0.25)\n",
    "Q3 = df['loan_amnt'].quantile(0.75)\n",
    "IQR = Q3 - Q1\n",
    "lower = Q1 - 1.5*IQR\n",
    "upper = Q3 + 1.5*IQR\n",
    "\n",
    "df['loan_amnt'] = np.where(df['loan_amnt'] < lower, lower, df[\"loan_amnt\"])\n",
    "df['loan_amnt'] = np.where(df['loan_amnt'] > upper, upper, df[\"loan_amnt\"])"
   ]
  },
  {
   "cell_type": "code",
   "execution_count": 19,
   "id": "a27bef26",
   "metadata": {
    "execution": {
     "iopub.execute_input": "2024-11-21T14:46:38.908510Z",
     "iopub.status.busy": "2024-11-21T14:46:38.907505Z",
     "iopub.status.idle": "2024-11-21T14:46:39.115151Z",
     "shell.execute_reply": "2024-11-21T14:46:39.113387Z"
    },
    "papermill": {
     "duration": 0.223768,
     "end_time": "2024-11-21T14:46:39.118339",
     "exception": false,
     "start_time": "2024-11-21T14:46:38.894571",
     "status": "completed"
    },
    "tags": []
   },
   "outputs": [
    {
     "data": {
      "image/png": "[encoded data removed]",
      "text/plain": [
       "<Figure size 640x480 with 1 Axes>"
      ]
     },
     "metadata": {},
     "output_type": "display_data"
    }
   ],
   "source": [
    "fig = plt.boxplot( df['loan_percent_income'])"
   ]
  },
  {
   "cell_type": "code",
   "execution_count": 20,
   "id": "2fc9506b",
   "metadata": {
    "execution": {
     "iopub.execute_input": "2024-11-21T14:46:39.146436Z",
     "iopub.status.busy": "2024-11-21T14:46:39.145989Z",
     "iopub.status.idle": "2024-11-21T14:46:39.158171Z",
     "shell.execute_reply": "2024-11-21T14:46:39.157090Z"
    },
    "papermill": {
     "duration": 0.029741,
     "end_time": "2024-11-21T14:46:39.160831",
     "exception": false,
     "start_time": "2024-11-21T14:46:39.131090",
     "status": "completed"
    },
    "tags": []
   },
   "outputs": [],
   "source": [
    "Q1 = df['loan_percent_income'].quantile(0.25)\n",
    "Q3 = df['loan_percent_income'].quantile(0.75)\n",
    "IQR = Q3 - Q1\n",
    "lower = Q1 - 1.5*IQR\n",
    "upper = Q3 + 1.5*IQR\n",
    "\n",
    "df['loan_percent_income'] = np.where(df['loan_percent_income'] < lower, lower, df[\"loan_percent_income\"])\n",
    "df['loan_percent_income'] = np.where(df['loan_percent_income'] > upper, upper, df[\"loan_percent_income\"])"
   ]
  },
  {
   "cell_type": "code",
   "execution_count": 21,
   "id": "588eb96b",
   "metadata": {
    "execution": {
     "iopub.execute_input": "2024-11-21T14:46:39.186884Z",
     "iopub.status.busy": "2024-11-21T14:46:39.186502Z",
     "iopub.status.idle": "2024-11-21T14:46:39.399215Z",
     "shell.execute_reply": "2024-11-21T14:46:39.397917Z"
    },
    "papermill": {
     "duration": 0.229442,
     "end_time": "2024-11-21T14:46:39.402064",
     "exception": false,
     "start_time": "2024-11-21T14:46:39.172622",
     "status": "completed"
    },
    "tags": []
   },
   "outputs": [
    {
     "data": {
      "image/png": "[encoded data removed]",
      "text/plain": [
       "<Figure size 640x480 with 1 Axes>"
      ]
     },
     "metadata": {},
     "output_type": "display_data"
    }
   ],
   "source": [
    "fig = plt.boxplot( df['cb_person_cred_hist_length'])"
   ]
  },
  {
   "cell_type": "code",
   "execution_count": 22,
   "id": "f7aaf0b2",
   "metadata": {
    "execution": {
     "iopub.execute_input": "2024-11-21T14:46:39.429656Z",
     "iopub.status.busy": "2024-11-21T14:46:39.429170Z",
     "iopub.status.idle": "2024-11-21T14:46:39.441538Z",
     "shell.execute_reply": "2024-11-21T14:46:39.440277Z"
    },
    "papermill": {
     "duration": 0.028882,
     "end_time": "2024-11-21T14:46:39.443923",
     "exception": false,
     "start_time": "2024-11-21T14:46:39.415041",
     "status": "completed"
    },
    "tags": []
   },
   "outputs": [],
   "source": [
    "Q1 = df['cb_person_cred_hist_length'].quantile(0.25)\n",
    "Q3 = df['cb_person_cred_hist_length'].quantile(0.75)\n",
    "IQR = Q3 - Q1\n",
    "lower = Q1 - 1.5*IQR\n",
    "upper = Q3 + 1.5*IQR\n",
    "\n",
    "df['cb_person_cred_hist_length'] = np.where(df['cb_person_cred_hist_length'] < lower, lower, df[\"cb_person_cred_hist_length\"])\n",
    "df['cb_person_cred_hist_length'] = np.where(df['cb_person_cred_hist_length'] > upper, upper, df[\"cb_person_cred_hist_length\"])"
   ]
  },
  {
   "cell_type": "code",
   "execution_count": 23,
   "id": "96119fcf",
   "metadata": {
    "execution": {
     "iopub.execute_input": "2024-11-21T14:46:39.471413Z",
     "iopub.status.busy": "2024-11-21T14:46:39.470272Z",
     "iopub.status.idle": "2024-11-21T14:46:39.668331Z",
     "shell.execute_reply": "2024-11-21T14:46:39.667082Z"
    },
    "papermill": {
     "duration": 0.214768,
     "end_time": "2024-11-21T14:46:39.670703",
     "exception": false,
     "start_time": "2024-11-21T14:46:39.455935",
     "status": "completed"
    },
    "tags": []
   },
   "outputs": [
    {
     "data": {
      "image/png": "[encoded data removed]",
      "text/plain": [
       "<Figure size 640x480 with 1 Axes>"
      ]
     },
     "metadata": {},
     "output_type": "display_data"
    }
   ],
   "source": [
    "fig = plt.boxplot( df['credit_score'])"
   ]
  },
  {
   "cell_type": "code",
   "execution_count": 24,
   "id": "d0322871",
   "metadata": {
    "execution": {
     "iopub.execute_input": "2024-11-21T14:46:39.696978Z",
     "iopub.status.busy": "2024-11-21T14:46:39.696577Z",
     "iopub.status.idle": "2024-11-21T14:46:39.708404Z",
     "shell.execute_reply": "2024-11-21T14:46:39.707379Z"
    },
    "papermill": {
     "duration": 0.027879,
     "end_time": "2024-11-21T14:46:39.710913",
     "exception": false,
     "start_time": "2024-11-21T14:46:39.683034",
     "status": "completed"
    },
    "tags": []
   },
   "outputs": [],
   "source": [
    "Q1 = df['credit_score'].quantile(0.25)\n",
    "Q3 = df['credit_score'].quantile(0.75)\n",
    "IQR = Q3 - Q1\n",
    "lower = Q1 - 1.5*IQR\n",
    "upper = Q3 + 1.5*IQR\n",
    "\n",
    "df['credit_score'] = np.where(df['credit_score'] < lower, lower, df[\"credit_score\"])\n",
    "df['credit_score'] = np.where(df['credit_score'] > upper, upper, df[\"credit_score\"])"
   ]
  },
  {
   "cell_type": "code",
   "execution_count": 25,
   "id": "43abf8b4",
   "metadata": {
    "execution": {
     "iopub.execute_input": "2024-11-21T14:46:39.737781Z",
     "iopub.status.busy": "2024-11-21T14:46:39.737383Z",
     "iopub.status.idle": "2024-11-21T14:46:39.814900Z",
     "shell.execute_reply": "2024-11-21T14:46:39.813893Z"
    },
    "papermill": {
     "duration": 0.094329,
     "end_time": "2024-11-21T14:46:39.817479",
     "exception": false,
     "start_time": "2024-11-21T14:46:39.723150",
     "status": "completed"
    },
    "tags": []
   },
   "outputs": [
    {
     "data": {
      "text/html": [
       "<div>\n",
       "<style scoped>\n",
       "    .dataframe tbody tr th:only-of-type {\n",
       "        vertical-align: middle;\n",
       "    }\n",
       "\n",
       "    .dataframe tbody tr th {\n",
       "        vertical-align: top;\n",
       "    }\n",
       "\n",
       "    .dataframe thead th {\n",
       "        text-align: right;\n",
       "    }\n",
       "</style>\n",
       "<table border=\"1\" class=\"dataframe\">\n",
       "  <thead>\n",
       "    <tr style=\"text-align: right;\">\n",
       "      <th></th>\n",
       "      <th>person_age</th>\n",
       "      <th>person_gender</th>\n",
       "      <th>person_education</th>\n",
       "      <th>person_income</th>\n",
       "      <th>person_emp_exp</th>\n",
       "      <th>person_home_ownership</th>\n",
       "      <th>loan_amnt</th>\n",
       "      <th>loan_intent</th>\n",
       "      <th>loan_int_rate</th>\n",
       "      <th>loan_percent_income</th>\n",
       "      <th>cb_person_cred_hist_length</th>\n",
       "      <th>credit_score</th>\n",
       "      <th>previous_loan_defaults_on_file</th>\n",
       "      <th>loan_status</th>\n",
       "    </tr>\n",
       "  </thead>\n",
       "  <tbody>\n",
       "    <tr>\n",
       "      <th>count</th>\n",
       "      <td>45000.000000</td>\n",
       "      <td>45000.000000</td>\n",
       "      <td>45000.000000</td>\n",
       "      <td>45000.000000</td>\n",
       "      <td>45000.000000</td>\n",
       "      <td>45000.000000</td>\n",
       "      <td>45000.000000</td>\n",
       "      <td>45000.000000</td>\n",
       "      <td>45000.000000</td>\n",
       "      <td>45000.000000</td>\n",
       "      <td>45000.000000</td>\n",
       "      <td>45000.00000</td>\n",
       "      <td>45000.000000</td>\n",
       "      <td>45000.000000</td>\n",
       "    </tr>\n",
       "    <tr>\n",
       "      <th>mean</th>\n",
       "      <td>27.444733</td>\n",
       "      <td>0.552022</td>\n",
       "      <td>1.465044</td>\n",
       "      <td>75677.400428</td>\n",
       "      <td>5.170311</td>\n",
       "      <td>0.659911</td>\n",
       "      <td>9411.042900</td>\n",
       "      <td>2.323622</td>\n",
       "      <td>11.006606</td>\n",
       "      <td>0.138842</td>\n",
       "      <td>5.783711</td>\n",
       "      <td>632.80830</td>\n",
       "      <td>0.507956</td>\n",
       "      <td>0.222222</td>\n",
       "    </tr>\n",
       "    <tr>\n",
       "      <th>std</th>\n",
       "      <td>4.930055</td>\n",
       "      <td>0.497292</td>\n",
       "      <td>1.182487</td>\n",
       "      <td>38071.779506</td>\n",
       "      <td>5.137068</td>\n",
       "      <td>0.609255</td>\n",
       "      <td>5832.950765</td>\n",
       "      <td>1.672702</td>\n",
       "      <td>2.978808</td>\n",
       "      <td>0.084360</td>\n",
       "      <td>3.578787</td>\n",
       "      <td>49.80135</td>\n",
       "      <td>0.499942</td>\n",
       "      <td>0.415744</td>\n",
       "    </tr>\n",
       "    <tr>\n",
       "      <th>min</th>\n",
       "      <td>20.000000</td>\n",
       "      <td>0.000000</td>\n",
       "      <td>0.000000</td>\n",
       "      <td>8000.000000</td>\n",
       "      <td>0.000000</td>\n",
       "      <td>0.000000</td>\n",
       "      <td>500.000000</td>\n",
       "      <td>0.000000</td>\n",
       "      <td>5.420000</td>\n",
       "      <td>0.000000</td>\n",
       "      <td>2.000000</td>\n",
       "      <td>497.50000</td>\n",
       "      <td>0.000000</td>\n",
       "      <td>0.000000</td>\n",
       "    </tr>\n",
       "    <tr>\n",
       "      <th>25%</th>\n",
       "      <td>24.000000</td>\n",
       "      <td>0.000000</td>\n",
       "      <td>0.000000</td>\n",
       "      <td>47204.000000</td>\n",
       "      <td>1.000000</td>\n",
       "      <td>0.000000</td>\n",
       "      <td>5000.000000</td>\n",
       "      <td>1.000000</td>\n",
       "      <td>8.590000</td>\n",
       "      <td>0.070000</td>\n",
       "      <td>3.000000</td>\n",
       "      <td>601.00000</td>\n",
       "      <td>0.000000</td>\n",
       "      <td>0.000000</td>\n",
       "    </tr>\n",
       "    <tr>\n",
       "      <th>50%</th>\n",
       "      <td>26.000000</td>\n",
       "      <td>1.000000</td>\n",
       "      <td>1.000000</td>\n",
       "      <td>67048.000000</td>\n",
       "      <td>4.000000</td>\n",
       "      <td>1.000000</td>\n",
       "      <td>8000.000000</td>\n",
       "      <td>2.000000</td>\n",
       "      <td>11.010000</td>\n",
       "      <td>0.120000</td>\n",
       "      <td>4.000000</td>\n",
       "      <td>640.00000</td>\n",
       "      <td>1.000000</td>\n",
       "      <td>0.000000</td>\n",
       "    </tr>\n",
       "    <tr>\n",
       "      <th>75%</th>\n",
       "      <td>30.000000</td>\n",
       "      <td>1.000000</td>\n",
       "      <td>3.000000</td>\n",
       "      <td>95789.250000</td>\n",
       "      <td>8.000000</td>\n",
       "      <td>1.000000</td>\n",
       "      <td>12237.250000</td>\n",
       "      <td>4.000000</td>\n",
       "      <td>12.990000</td>\n",
       "      <td>0.190000</td>\n",
       "      <td>8.000000</td>\n",
       "      <td>670.00000</td>\n",
       "      <td>1.000000</td>\n",
       "      <td>0.000000</td>\n",
       "    </tr>\n",
       "    <tr>\n",
       "      <th>max</th>\n",
       "      <td>39.000000</td>\n",
       "      <td>1.000000</td>\n",
       "      <td>4.000000</td>\n",
       "      <td>168667.125000</td>\n",
       "      <td>18.500000</td>\n",
       "      <td>3.000000</td>\n",
       "      <td>23093.125000</td>\n",
       "      <td>5.000000</td>\n",
       "      <td>20.000000</td>\n",
       "      <td>0.370000</td>\n",
       "      <td>15.500000</td>\n",
       "      <td>773.50000</td>\n",
       "      <td>1.000000</td>\n",
       "      <td>1.000000</td>\n",
       "    </tr>\n",
       "  </tbody>\n",
       "</table>\n",
       "</div>"
      ],
      "text/plain": [
       "         person_age  person_gender  person_education  person_income  \\\n",
       "count  45000.000000   45000.000000      45000.000000   45000.000000   \n",
       "mean      27.444733       0.552022          1.465044   75677.400428   \n",
       "std        4.930055       0.497292          1.182487   38071.779506   \n",
       "min       20.000000       0.000000          0.000000    8000.000000   \n",
       "25%       24.000000       0.000000          0.000000   47204.000000   \n",
       "50%       26.000000       1.000000          1.000000   67048.000000   \n",
       "75%       30.000000       1.000000          3.000000   95789.250000   \n",
       "max       39.000000       1.000000          4.000000  168667.125000   \n",
       "\n",
       "       person_emp_exp  person_home_ownership     loan_amnt   loan_intent  \\\n",
       "count    45000.000000           45000.000000  45000.000000  45000.000000   \n",
       "mean         5.170311               0.659911   9411.042900      2.323622   \n",
       "std          5.137068               0.609255   5832.950765      1.672702   \n",
       "min          0.000000               0.000000    500.000000      0.000000   \n",
       "25%          1.000000               0.000000   5000.000000      1.000000   \n",
       "50%          4.000000               1.000000   8000.000000      2.000000   \n",
       "75%          8.000000               1.000000  12237.250000      4.000000   \n",
       "max         18.500000               3.000000  23093.125000      5.000000   \n",
       "\n",
       "       loan_int_rate  loan_percent_income  cb_person_cred_hist_length  \\\n",
       "count   45000.000000         45000.000000                45000.000000   \n",
       "mean       11.006606             0.138842                    5.783711   \n",
       "std         2.978808             0.084360                    3.578787   \n",
       "min         5.420000             0.000000                    2.000000   \n",
       "25%         8.590000             0.070000                    3.000000   \n",
       "50%        11.010000             0.120000                    4.000000   \n",
       "75%        12.990000             0.190000                    8.000000   \n",
       "max        20.000000             0.370000                   15.500000   \n",
       "\n",
       "       credit_score  previous_loan_defaults_on_file   loan_status  \n",
       "count   45000.00000                    45000.000000  45000.000000  \n",
       "mean      632.80830                        0.507956      0.222222  \n",
       "std        49.80135                        0.499942      0.415744  \n",
       "min       497.50000                        0.000000      0.000000  \n",
       "25%       601.00000                        0.000000      0.000000  \n",
       "50%       640.00000                        1.000000      0.000000  \n",
       "75%       670.00000                        1.000000      0.000000  \n",
       "max       773.50000                        1.000000      1.000000  "
      ]
     },
     "execution_count": 25,
     "metadata": {},
     "output_type": "execute_result"
    }
   ],
   "source": [
    "df.describe()"
   ]
  },
  {
   "cell_type": "code",
   "execution_count": 26,
   "id": "de438aff",
   "metadata": {
    "execution": {
     "iopub.execute_input": "2024-11-21T14:46:39.847267Z",
     "iopub.status.busy": "2024-11-21T14:46:39.846127Z",
     "iopub.status.idle": "2024-11-21T14:46:39.859249Z",
     "shell.execute_reply": "2024-11-21T14:46:39.858033Z"
    },
    "papermill": {
     "duration": 0.031713,
     "end_time": "2024-11-21T14:46:39.861913",
     "exception": false,
     "start_time": "2024-11-21T14:46:39.830200",
     "status": "completed"
    },
    "tags": []
   },
   "outputs": [
    {
     "name": "stdout",
     "output_type": "stream",
     "text": [
      "<class 'pandas.core.frame.DataFrame'>\n",
      "RangeIndex: 45000 entries, 0 to 44999\n",
      "Data columns (total 14 columns):\n",
      " #   Column                          Non-Null Count  Dtype  \n",
      "---  ------                          --------------  -----  \n",
      " 0   person_age                      45000 non-null  float64\n",
      " 1   person_gender                   45000 non-null  int64  \n",
      " 2   person_education                45000 non-null  int64  \n",
      " 3   person_income                   45000 non-null  float64\n",
      " 4   person_emp_exp                  45000 non-null  float64\n",
      " 5   person_home_ownership           45000 non-null  int64  \n",
      " 6   loan_amnt                       45000 non-null  float64\n",
      " 7   loan_intent                     45000 non-null  int64  \n",
      " 8   loan_int_rate                   45000 non-null  float64\n",
      " 9   loan_percent_income             45000 non-null  float64\n",
      " 10  cb_person_cred_hist_length      45000 non-null  float64\n",
      " 11  credit_score                    45000 non-null  float64\n",
      " 12  previous_loan_defaults_on_file  45000 non-null  int64  \n",
      " 13  loan_status                     45000 non-null  int64  \n",
      "dtypes: float64(8), int64(6)\n",
      "memory usage: 4.8 MB\n"
     ]
    }
   ],
   "source": [
    "df.info()"
   ]
  },
  {
   "cell_type": "code",
   "execution_count": 27,
   "id": "8e0457e3",
   "metadata": {
    "execution": {
     "iopub.execute_input": "2024-11-21T14:46:39.891634Z",
     "iopub.status.busy": "2024-11-21T14:46:39.891180Z",
     "iopub.status.idle": "2024-11-21T14:46:40.841574Z",
     "shell.execute_reply": "2024-11-21T14:46:40.840389Z"
    },
    "papermill": {
     "duration": 0.970105,
     "end_time": "2024-11-21T14:46:40.845446",
     "exception": false,
     "start_time": "2024-11-21T14:46:39.875341",
     "status": "completed"
    },
    "tags": []
   },
   "outputs": [
    {
     "data": {
      "image/png": "[encoded data removed]",
      "text/plain": [
       "<Figure size 2000x1200 with 2 Axes>"
      ]
     },
     "metadata": {},
     "output_type": "display_data"
    }
   ],
   "source": [
    "correlation_matrix =df.corr()\n",
    "plt.figure(figsize=(20,12))\n",
    "sns.heatmap(correlation_matrix , annot= True , cmap='Blues')\n",
    "plt.show()"
   ]
  },
  {
   "cell_type": "code",
   "execution_count": 28,
   "id": "ad491c63",
   "metadata": {
    "execution": {
     "iopub.execute_input": "2024-11-21T14:46:40.880738Z",
     "iopub.status.busy": "2024-11-21T14:46:40.880282Z",
     "iopub.status.idle": "2024-11-21T14:46:40.921141Z",
     "shell.execute_reply": "2024-11-21T14:46:40.919795Z"
    },
    "papermill": {
     "duration": 0.060772,
     "end_time": "2024-11-21T14:46:40.923512",
     "exception": false,
     "start_time": "2024-11-21T14:46:40.862740",
     "status": "completed"
    },
    "tags": []
   },
   "outputs": [
    {
     "name": "stdout",
     "output_type": "stream",
     "text": [
      "selected features based on correlation with target:\n",
      "['person_age', 'person_income', 'person_emp_exp', 'person_home_ownership', 'loan_amnt', 'loan_intent', 'loan_int_rate', 'loan_percent_income', 'cb_person_cred_hist_length', 'previous_loan_defaults_on_file']\n"
     ]
    }
   ],
   "source": [
    "threshold = 0.01\n",
    "correlation_matrix = df.corr()\n",
    "high_corr_feature = correlation_matrix.index[abs(correlation_matrix['loan_status'])>threshold].tolist()\n",
    "high_corr_feature.remove('loan_status')\n",
    "\n",
    "print('selected features based on correlation with target:')\n",
    "print(high_corr_feature)\n",
    "\n",
    "\n",
    "X_selected = df[high_corr_feature]\n",
    "y = df['loan_status']"
   ]
  },
  {
   "cell_type": "code",
   "execution_count": 29,
   "id": "e7a836eb",
   "metadata": {
    "execution": {
     "iopub.execute_input": "2024-11-21T14:46:40.958646Z",
     "iopub.status.busy": "2024-11-21T14:46:40.958215Z",
     "iopub.status.idle": "2024-11-21T14:46:40.973592Z",
     "shell.execute_reply": "2024-11-21T14:46:40.972642Z"
    },
    "papermill": {
     "duration": 0.035771,
     "end_time": "2024-11-21T14:46:40.975856",
     "exception": false,
     "start_time": "2024-11-21T14:46:40.940085",
     "status": "completed"
    },
    "tags": []
   },
   "outputs": [],
   "source": [
    "scaler = MinMaxScaler()\n",
    "X = scaler.fit_transform(X_selected)"
   ]
  },
  {
   "cell_type": "code",
   "execution_count": 30,
   "id": "16a18f97",
   "metadata": {
    "execution": {
     "iopub.execute_input": "2024-11-21T14:46:41.010652Z",
     "iopub.status.busy": "2024-11-21T14:46:41.010239Z",
     "iopub.status.idle": "2024-11-21T14:46:41.024787Z",
     "shell.execute_reply": "2024-11-21T14:46:41.023617Z"
    },
    "papermill": {
     "duration": 0.035128,
     "end_time": "2024-11-21T14:46:41.027235",
     "exception": false,
     "start_time": "2024-11-21T14:46:40.992107",
     "status": "completed"
    },
    "tags": []
   },
   "outputs": [],
   "source": [
    "x_train , x_test , y_train , y_test = train_test_split(X,y ,train_size=0.8,shuffle=True,random_state=40)"
   ]
  },
  {
   "cell_type": "code",
   "execution_count": 31,
   "id": "470d2470",
   "metadata": {
    "execution": {
     "iopub.execute_input": "2024-11-21T14:46:41.061702Z",
     "iopub.status.busy": "2024-11-21T14:46:41.061311Z",
     "iopub.status.idle": "2024-11-21T14:46:41.066528Z",
     "shell.execute_reply": "2024-11-21T14:46:41.065402Z"
    },
    "papermill": {
     "duration": 0.025107,
     "end_time": "2024-11-21T14:46:41.068768",
     "exception": false,
     "start_time": "2024-11-21T14:46:41.043661",
     "status": "completed"
    },
    "tags": []
   },
   "outputs": [],
   "source": [
    "y_train = y_train.values.reshape(-1,1)\n",
    "y_test = y_test.values.reshape(-1,1)"
   ]
  },
  {
   "cell_type": "code",
   "execution_count": 32,
   "id": "cb619eb8",
   "metadata": {
    "execution": {
     "iopub.execute_input": "2024-11-21T14:46:41.103138Z",
     "iopub.status.busy": "2024-11-21T14:46:41.102710Z",
     "iopub.status.idle": "2024-11-21T14:46:41.109810Z",
     "shell.execute_reply": "2024-11-21T14:46:41.108549Z"
    },
    "papermill": {
     "duration": 0.027069,
     "end_time": "2024-11-21T14:46:41.112030",
     "exception": false,
     "start_time": "2024-11-21T14:46:41.084961",
     "status": "completed"
    },
    "tags": []
   },
   "outputs": [
    {
     "data": {
      "text/plain": [
       "(36000, 10)"
      ]
     },
     "execution_count": 32,
     "metadata": {},
     "output_type": "execute_result"
    }
   ],
   "source": [
    "x_train.shape\n"
   ]
  },
  {
   "cell_type": "markdown",
   "id": "0cb81277",
   "metadata": {},
   "source": [
    "Bagging and Boosting"
   ]
  },
  {
   "cell_type": "code",
   "execution_count": 33,
   "id": "f05a6bc4",
   "metadata": {},
   "outputs": [],
   "source": [
    "\n",
    "\n",
    "from catboost import Pool\n",
    "\n",
    "X = df.drop('loan_status', axis=1)\n",
    "y = df.loan_status\n",
    "\n",
    "categorical_cols = df.select_dtypes(include=['object', 'category']).columns\n",
    "\n",
    "X_train, X_test, y_train, y_test = train_test_split(X, y, test_size=0.2, shuffle=True, random_state=123, stratify=y)\n",
    "\n",
    "X_train, X_val, y_train, y_val = train_test_split(X_train, y_train, test_size=0.2, shuffle=True, random_state=123, stratify=y_train)\n",
    "\n",
    "train_pool = Pool(X_train, y_train, cat_features=categorical_cols.values)\n",
    "\n",
    "val_pool = Pool(X_val, y_val, cat_features=categorical_cols.values)\n",
    "\n",
    "test_pool = Pool(X_test, y_test, cat_features=categorical_cols.values)"
   ]
  },
  {
   "cell_type": "code",
   "execution_count": null,
   "id": "3e7b8c1b",
   "metadata": {},
   "outputs": [
    {
     "name": "stderr",
     "output_type": "stream",
     "text": [
      "[I 2024-12-10 17:00:40,439] A new study created in memory with name: no-name-d444154e-7edb-4600-a93c-04c0567d09aa\n",
      "[W 2024-12-10 17:00:43,055] Trial 0 failed with parameters: {'learning_rate': 0.07268222670380756, 'depth': 5, 'l2_leaf_reg': 3.041663082077828, 'boosting_type': 'Plain', 'bootstrap_type': 'Bernoulli', 'subsample': 0.7404659507421805} because of the following error: AttributeError(\"'CatBoostClassifier' object has no attribute 'plot_feature_importance'\").\n",
      "Traceback (most recent call last):\n",
      "  File \"/Users/indraniborra/.pyenv/versions/3.9.6/lib/python3.9/site-packages/optuna/study/_optimize.py\", line 197, in _run_trial\n",
      "    value_or_values = func(trial)\n",
      "  File \"/var/folders/w8/_c74tplx26q91cmt17qdmvg80000gn/T/ipykernel_50629/2013293687.py\", line 32, in objective\n",
      "    model.plot_feature_importance()\n",
      "AttributeError: 'CatBoostClassifier' object has no attribute 'plot_feature_importance'\n",
      "[W 2024-12-10 17:00:43,056] Trial 0 failed with value None.\n"
     ]
    },
    {
     "ename": "AttributeError",
     "evalue": "'CatBoostClassifier' object has no attribute 'plot_feature_importance'",
     "output_type": "error",
     "traceback": [
      "\u001b[0;31m---------------------------------------------------------------------------\u001b[0m",
      "\u001b[0;31mAttributeError\u001b[0m                            Traceback (most recent call last)",
      "Cell \u001b[0;32mIn[38], line 45\u001b[0m\n\u001b[1;32m     42\u001b[0m study \u001b[38;5;241m=\u001b[39m create_study(direction\u001b[38;5;241m=\u001b[39m\u001b[38;5;124m'\u001b[39m\u001b[38;5;124mmaximize\u001b[39m\u001b[38;5;124m'\u001b[39m, sampler\u001b[38;5;241m=\u001b[39msampler)\n\u001b[1;32m     44\u001b[0m \u001b[38;5;66;03m# Optimize the objective function for 5 trials\u001b[39;00m\n\u001b[0;32m---> 45\u001b[0m \u001b[43mstudy\u001b[49m\u001b[38;5;241;43m.\u001b[39;49m\u001b[43moptimize\u001b[49m\u001b[43m(\u001b[49m\u001b[43mobjective\u001b[49m\u001b[43m,\u001b[49m\u001b[43m \u001b[49m\u001b[43mn_trials\u001b[49m\u001b[38;5;241;43m=\u001b[39;49m\u001b[38;5;241;43m5\u001b[39;49m\u001b[43m)\u001b[49m\n\u001b[1;32m     47\u001b[0m \u001b[38;5;66;03m# Visualize the optimization history\u001b[39;00m\n\u001b[1;32m     48\u001b[0m optuna\u001b[38;5;241m.\u001b[39mvisualization\u001b[38;5;241m.\u001b[39mplot_optimization_history(study)\n",
      "File \u001b[0;32m~/.pyenv/versions/3.9.6/lib/python3.9/site-packages/optuna/study/study.py:475\u001b[0m, in \u001b[0;36mStudy.optimize\u001b[0;34m(self, func, n_trials, timeout, n_jobs, catch, callbacks, gc_after_trial, show_progress_bar)\u001b[0m\n\u001b[1;32m    373\u001b[0m \u001b[38;5;28;01mdef\u001b[39;00m \u001b[38;5;21moptimize\u001b[39m(\n\u001b[1;32m    374\u001b[0m     \u001b[38;5;28mself\u001b[39m,\n\u001b[1;32m    375\u001b[0m     func: ObjectiveFuncType,\n\u001b[0;32m   (...)\u001b[0m\n\u001b[1;32m    382\u001b[0m     show_progress_bar: \u001b[38;5;28mbool\u001b[39m \u001b[38;5;241m=\u001b[39m \u001b[38;5;28;01mFalse\u001b[39;00m,\n\u001b[1;32m    383\u001b[0m ) \u001b[38;5;241m-\u001b[39m\u001b[38;5;241m>\u001b[39m \u001b[38;5;28;01mNone\u001b[39;00m:\n\u001b[1;32m    384\u001b[0m \u001b[38;5;250m    \u001b[39m\u001b[38;5;124;03m\"\"\"Optimize an objective function.\u001b[39;00m\n\u001b[1;32m    385\u001b[0m \n\u001b[1;32m    386\u001b[0m \u001b[38;5;124;03m    Optimization is done by choosing a suitable set of hyperparameter values from a given\u001b[39;00m\n\u001b[0;32m   (...)\u001b[0m\n\u001b[1;32m    473\u001b[0m \u001b[38;5;124;03m            If nested invocation of this method occurs.\u001b[39;00m\n\u001b[1;32m    474\u001b[0m \u001b[38;5;124;03m    \"\"\"\u001b[39;00m\n\u001b[0;32m--> 475\u001b[0m     \u001b[43m_optimize\u001b[49m\u001b[43m(\u001b[49m\n\u001b[1;32m    476\u001b[0m \u001b[43m        \u001b[49m\u001b[43mstudy\u001b[49m\u001b[38;5;241;43m=\u001b[39;49m\u001b[38;5;28;43mself\u001b[39;49m\u001b[43m,\u001b[49m\n\u001b[1;32m    477\u001b[0m \u001b[43m        \u001b[49m\u001b[43mfunc\u001b[49m\u001b[38;5;241;43m=\u001b[39;49m\u001b[43mfunc\u001b[49m\u001b[43m,\u001b[49m\n\u001b[1;32m    478\u001b[0m \u001b[43m        \u001b[49m\u001b[43mn_trials\u001b[49m\u001b[38;5;241;43m=\u001b[39;49m\u001b[43mn_trials\u001b[49m\u001b[43m,\u001b[49m\n\u001b[1;32m    479\u001b[0m \u001b[43m        \u001b[49m\u001b[43mtimeout\u001b[49m\u001b[38;5;241;43m=\u001b[39;49m\u001b[43mtimeout\u001b[49m\u001b[43m,\u001b[49m\n\u001b[1;32m    480\u001b[0m \u001b[43m        \u001b[49m\u001b[43mn_jobs\u001b[49m\u001b[38;5;241;43m=\u001b[39;49m\u001b[43mn_jobs\u001b[49m\u001b[43m,\u001b[49m\n\u001b[1;32m    481\u001b[0m \u001b[43m        \u001b[49m\u001b[43mcatch\u001b[49m\u001b[38;5;241;43m=\u001b[39;49m\u001b[38;5;28;43mtuple\u001b[39;49m\u001b[43m(\u001b[49m\u001b[43mcatch\u001b[49m\u001b[43m)\u001b[49m\u001b[43m \u001b[49m\u001b[38;5;28;43;01mif\u001b[39;49;00m\u001b[43m \u001b[49m\u001b[38;5;28;43misinstance\u001b[39;49m\u001b[43m(\u001b[49m\u001b[43mcatch\u001b[49m\u001b[43m,\u001b[49m\u001b[43m \u001b[49m\u001b[43mIterable\u001b[49m\u001b[43m)\u001b[49m\u001b[43m \u001b[49m\u001b[38;5;28;43;01melse\u001b[39;49;00m\u001b[43m \u001b[49m\u001b[43m(\u001b[49m\u001b[43mcatch\u001b[49m\u001b[43m,\u001b[49m\u001b[43m)\u001b[49m\u001b[43m,\u001b[49m\n\u001b[1;32m    482\u001b[0m \u001b[43m        \u001b[49m\u001b[43mcallbacks\u001b[49m\u001b[38;5;241;43m=\u001b[39;49m\u001b[43mcallbacks\u001b[49m\u001b[43m,\u001b[49m\n\u001b[1;32m    483\u001b[0m \u001b[43m        \u001b[49m\u001b[43mgc_after_trial\u001b[49m\u001b[38;5;241;43m=\u001b[39;49m\u001b[43mgc_after_trial\u001b[49m\u001b[43m,\u001b[49m\n\u001b[1;32m    484\u001b[0m \u001b[43m        \u001b[49m\u001b[43mshow_progress_bar\u001b[49m\u001b[38;5;241;43m=\u001b[39;49m\u001b[43mshow_progress_bar\u001b[49m\u001b[43m,\u001b[49m\n\u001b[1;32m    485\u001b[0m \u001b[43m    \u001b[49m\u001b[43m)\u001b[49m\n",
      "File \u001b[0;32m~/.pyenv/versions/3.9.6/lib/python3.9/site-packages/optuna/study/_optimize.py:63\u001b[0m, in \u001b[0;36m_optimize\u001b[0;34m(study, func, n_trials, timeout, n_jobs, catch, callbacks, gc_after_trial, show_progress_bar)\u001b[0m\n\u001b[1;32m     61\u001b[0m \u001b[38;5;28;01mtry\u001b[39;00m:\n\u001b[1;32m     62\u001b[0m     \u001b[38;5;28;01mif\u001b[39;00m n_jobs \u001b[38;5;241m==\u001b[39m \u001b[38;5;241m1\u001b[39m:\n\u001b[0;32m---> 63\u001b[0m         \u001b[43m_optimize_sequential\u001b[49m\u001b[43m(\u001b[49m\n\u001b[1;32m     64\u001b[0m \u001b[43m            \u001b[49m\u001b[43mstudy\u001b[49m\u001b[43m,\u001b[49m\n\u001b[1;32m     65\u001b[0m \u001b[43m            \u001b[49m\u001b[43mfunc\u001b[49m\u001b[43m,\u001b[49m\n\u001b[1;32m     66\u001b[0m \u001b[43m            \u001b[49m\u001b[43mn_trials\u001b[49m\u001b[43m,\u001b[49m\n\u001b[1;32m     67\u001b[0m \u001b[43m            \u001b[49m\u001b[43mtimeout\u001b[49m\u001b[43m,\u001b[49m\n\u001b[1;32m     68\u001b[0m \u001b[43m            \u001b[49m\u001b[43mcatch\u001b[49m\u001b[43m,\u001b[49m\n\u001b[1;32m     69\u001b[0m \u001b[43m            \u001b[49m\u001b[43mcallbacks\u001b[49m\u001b[43m,\u001b[49m\n\u001b[1;32m     70\u001b[0m \u001b[43m            \u001b[49m\u001b[43mgc_after_trial\u001b[49m\u001b[43m,\u001b[49m\n\u001b[1;32m     71\u001b[0m \u001b[43m            \u001b[49m\u001b[43mreseed_sampler_rng\u001b[49m\u001b[38;5;241;43m=\u001b[39;49m\u001b[38;5;28;43;01mFalse\u001b[39;49;00m\u001b[43m,\u001b[49m\n\u001b[1;32m     72\u001b[0m \u001b[43m            \u001b[49m\u001b[43mtime_start\u001b[49m\u001b[38;5;241;43m=\u001b[39;49m\u001b[38;5;28;43;01mNone\u001b[39;49;00m\u001b[43m,\u001b[49m\n\u001b[1;32m     73\u001b[0m \u001b[43m            \u001b[49m\u001b[43mprogress_bar\u001b[49m\u001b[38;5;241;43m=\u001b[39;49m\u001b[43mprogress_bar\u001b[49m\u001b[43m,\u001b[49m\n\u001b[1;32m     74\u001b[0m \u001b[43m        \u001b[49m\u001b[43m)\u001b[49m\n\u001b[1;32m     75\u001b[0m     \u001b[38;5;28;01melse\u001b[39;00m:\n\u001b[1;32m     76\u001b[0m         \u001b[38;5;28;01mif\u001b[39;00m n_jobs \u001b[38;5;241m==\u001b[39m \u001b[38;5;241m-\u001b[39m\u001b[38;5;241m1\u001b[39m:\n",
      "File \u001b[0;32m~/.pyenv/versions/3.9.6/lib/python3.9/site-packages/optuna/study/_optimize.py:160\u001b[0m, in \u001b[0;36m_optimize_sequential\u001b[0;34m(study, func, n_trials, timeout, catch, callbacks, gc_after_trial, reseed_sampler_rng, time_start, progress_bar)\u001b[0m\n\u001b[1;32m    157\u001b[0m         \u001b[38;5;28;01mbreak\u001b[39;00m\n\u001b[1;32m    159\u001b[0m \u001b[38;5;28;01mtry\u001b[39;00m:\n\u001b[0;32m--> 160\u001b[0m     frozen_trial \u001b[38;5;241m=\u001b[39m \u001b[43m_run_trial\u001b[49m\u001b[43m(\u001b[49m\u001b[43mstudy\u001b[49m\u001b[43m,\u001b[49m\u001b[43m \u001b[49m\u001b[43mfunc\u001b[49m\u001b[43m,\u001b[49m\u001b[43m \u001b[49m\u001b[43mcatch\u001b[49m\u001b[43m)\u001b[49m\n\u001b[1;32m    161\u001b[0m \u001b[38;5;28;01mfinally\u001b[39;00m:\n\u001b[1;32m    162\u001b[0m     \u001b[38;5;66;03m# The following line mitigates memory problems that can be occurred in some\u001b[39;00m\n\u001b[1;32m    163\u001b[0m     \u001b[38;5;66;03m# environments (e.g., services that use computing containers such as GitHub Actions).\u001b[39;00m\n\u001b[1;32m    164\u001b[0m     \u001b[38;5;66;03m# Please refer to the following PR for further details:\u001b[39;00m\n\u001b[1;32m    165\u001b[0m     \u001b[38;5;66;03m# https://github.com/optuna/optuna/pull/325.\u001b[39;00m\n\u001b[1;32m    166\u001b[0m     \u001b[38;5;28;01mif\u001b[39;00m gc_after_trial:\n",
      "File \u001b[0;32m~/.pyenv/versions/3.9.6/lib/python3.9/site-packages/optuna/study/_optimize.py:248\u001b[0m, in \u001b[0;36m_run_trial\u001b[0;34m(study, func, catch)\u001b[0m\n\u001b[1;32m    241\u001b[0m         \u001b[38;5;28;01massert\u001b[39;00m \u001b[38;5;28;01mFalse\u001b[39;00m, \u001b[38;5;124m\"\u001b[39m\u001b[38;5;124mShould not reach.\u001b[39m\u001b[38;5;124m\"\u001b[39m\n\u001b[1;32m    243\u001b[0m \u001b[38;5;28;01mif\u001b[39;00m (\n\u001b[1;32m    244\u001b[0m     frozen_trial\u001b[38;5;241m.\u001b[39mstate \u001b[38;5;241m==\u001b[39m TrialState\u001b[38;5;241m.\u001b[39mFAIL\n\u001b[1;32m    245\u001b[0m     \u001b[38;5;129;01mand\u001b[39;00m func_err \u001b[38;5;129;01mis\u001b[39;00m \u001b[38;5;129;01mnot\u001b[39;00m \u001b[38;5;28;01mNone\u001b[39;00m\n\u001b[1;32m    246\u001b[0m     \u001b[38;5;129;01mand\u001b[39;00m \u001b[38;5;129;01mnot\u001b[39;00m \u001b[38;5;28misinstance\u001b[39m(func_err, catch)\n\u001b[1;32m    247\u001b[0m ):\n\u001b[0;32m--> 248\u001b[0m     \u001b[38;5;28;01mraise\u001b[39;00m func_err\n\u001b[1;32m    249\u001b[0m \u001b[38;5;28;01mreturn\u001b[39;00m frozen_trial\n",
      "File \u001b[0;32m~/.pyenv/versions/3.9.6/lib/python3.9/site-packages/optuna/study/_optimize.py:197\u001b[0m, in \u001b[0;36m_run_trial\u001b[0;34m(study, func, catch)\u001b[0m\n\u001b[1;32m    195\u001b[0m \u001b[38;5;28;01mwith\u001b[39;00m get_heartbeat_thread(trial\u001b[38;5;241m.\u001b[39m_trial_id, study\u001b[38;5;241m.\u001b[39m_storage):\n\u001b[1;32m    196\u001b[0m     \u001b[38;5;28;01mtry\u001b[39;00m:\n\u001b[0;32m--> 197\u001b[0m         value_or_values \u001b[38;5;241m=\u001b[39m \u001b[43mfunc\u001b[49m\u001b[43m(\u001b[49m\u001b[43mtrial\u001b[49m\u001b[43m)\u001b[49m\n\u001b[1;32m    198\u001b[0m     \u001b[38;5;28;01mexcept\u001b[39;00m exceptions\u001b[38;5;241m.\u001b[39mTrialPruned \u001b[38;5;28;01mas\u001b[39;00m e:\n\u001b[1;32m    199\u001b[0m         \u001b[38;5;66;03m# TODO(mamu): Handle multi-objective cases.\u001b[39;00m\n\u001b[1;32m    200\u001b[0m         state \u001b[38;5;241m=\u001b[39m TrialState\u001b[38;5;241m.\u001b[39mPRUNED\n",
      "Cell \u001b[0;32mIn[38], line 32\u001b[0m, in \u001b[0;36mobjective\u001b[0;34m(trial)\u001b[0m\n\u001b[1;32m     29\u001b[0m y_pred \u001b[38;5;241m=\u001b[39m model\u001b[38;5;241m.\u001b[39mpredict_proba(val_pool)[:, \u001b[38;5;241m1\u001b[39m]  \u001b[38;5;66;03m# get the probabilities for the positive class\u001b[39;00m\n\u001b[1;32m     31\u001b[0m \u001b[38;5;66;03m# 1. Plot CatBoost Feature Importance\u001b[39;00m\n\u001b[0;32m---> 32\u001b[0m \u001b[43mmodel\u001b[49m\u001b[38;5;241;43m.\u001b[39;49m\u001b[43mplot_feature_importance\u001b[49m()\n\u001b[1;32m     33\u001b[0m plt\u001b[38;5;241m.\u001b[39mshow()\n\u001b[1;32m     35\u001b[0m \u001b[38;5;66;03m# Evaluate the AUC metric on the validation set\u001b[39;00m\n",
      "\u001b[0;31mAttributeError\u001b[0m: 'CatBoostClassifier' object has no attribute 'plot_feature_importance'"
     ]
    }
   ],
   "source": [
    "import optuna\n",
    "from optuna import create_study\n",
    "from optuna.samplers import TPESampler\n",
    "from catboost import CatBoostClassifier, Pool\n",
    "from catboost.utils import eval_metric\n",
    "\n",
    "def objective(trial):\n",
    "    # Define the hyperparameters to tune\n",
    "    params = {\n",
    "        'learning_rate': trial.suggest_float('learning_rate', 0.01, 0.1),\n",
    "        'depth': trial.suggest_int('depth', 3, 10),\n",
    "        'l2_leaf_reg': trial.suggest_float('l2_leaf_reg', 1, 10),\n",
    "        'boosting_type': trial.suggest_categorical('boosting_type', ['Ordered', 'Plain']),\n",
    "        'iterations': 400,  # Fix number of iterations\n",
    "        'random_seed': 42,  # Fix random seed\n",
    "        'task_type': 'CPU',  # Use GPU for faster training\n",
    "        'verbose': 0,  # Suppress verbose output\n",
    "        'bootstrap_type': trial.suggest_categorical('bootstrap_type', ['Bayesian', 'Bernoulli', 'MVS']),  # Bagging types\n",
    "        'subsample': trial.suggest_float('subsample', 0.5, 1.0),  # Proportion of data to use for each tree\n",
    "    }\n",
    "\n",
    "    # Create the CatBoost model with the trial's parameters\n",
    "    model = CatBoostClassifier(**params)\n",
    "    \n",
    "    # Fit the model using the training pool and validate on the validation pool\n",
    "    model.fit(train_pool, eval_set=val_pool, use_best_model=True)\n",
    "    \n",
    "    # Predict the probability of the positive class on validation data\n",
    "    y_pred = model.predict_proba(val_pool)[:, 1]  # get the probabilities for the positive class\n",
    "    \n",
    "    \n",
    "    # Evaluate the AUC metric on the validation set\n",
    "    return eval_metric(val_pool.get_label(), y_pred, 'AUC')\n",
    "\n",
    "\n",
    "\n",
    "# Create a sampler and study for hyperparameter optimization\n",
    "sampler = TPESampler(seed=123)\n",
    "study = create_study(direction='maximize', sampler=sampler)\n",
    "\n",
    "# Optimize the objective function for 5 trials\n",
    "study.optimize(objective, n_trials=5)\n",
    "\n",
    "# Visualize the optimization history\n",
    "optuna.visualization.plot_optimization_history(study)\n",
    "\n",
    "# 1. Plot CatBoost Feature Importance\n",
    "model.plot_feature_importance()\n",
    "plt.show()\n",
    "\n",
    "# 2. Plot CatBoost Learning Curve\n",
    "model.plot_metrics()\n",
    "plt.show()\n",
    "\n",
    "# 3. Plot Optuna Optimization History\n",
    "fig = vis.plot_optimization_history(study)\n",
    "fig.show()\n",
    "\n",
    "# 4. Plot Optuna Parameter Importances\n",
    "fig = vis.plot_param_importances(study)\n",
    "fig.show()\n",
    "\n"
   ]
  },
  {
   "cell_type": "code",
   "execution_count": null,
   "id": "fb502688",
   "metadata": {},
   "outputs": [
    {
     "ename": "NameError",
     "evalue": "name 'model' is not defined",
     "output_type": "error",
     "traceback": [
      "\u001b[0;31m---------------------------------------------------------------------------\u001b[0m",
      "\u001b[0;31mNameError\u001b[0m                                 Traceback (most recent call last)",
      "Cell \u001b[0;32mIn[36], line 5\u001b[0m\n\u001b[1;32m      1\u001b[0m \u001b[38;5;66;03m# Run the optimization\u001b[39;00m\n\u001b[1;32m      2\u001b[0m \u001b[38;5;66;03m#study.optimize(objective, n_trials=5)\u001b[39;00m\n\u001b[1;32m      3\u001b[0m \n\u001b[1;32m      4\u001b[0m \u001b[38;5;66;03m# 1. Plot CatBoost Feature Importance\u001b[39;00m\n\u001b[0;32m----> 5\u001b[0m \u001b[43mmodel\u001b[49m\u001b[38;5;241m.\u001b[39mplot_feature_importance()\n\u001b[1;32m      6\u001b[0m plt\u001b[38;5;241m.\u001b[39mshow()\n\u001b[1;32m      8\u001b[0m \u001b[38;5;66;03m# 2. Plot CatBoost Learning Curve\u001b[39;00m\n",
      "\u001b[0;31mNameError\u001b[0m: name 'model' is not defined"
     ]
    }
   ],
   "source": [
    "# Run the optimization\n",
    "study.optimize(objective, n_trials=5)\n",
    "\n",
    "# 1. Plot CatBoost Feature Importance\n",
    "model.plot_feature_importance()\n",
    "plt.show()\n",
    "\n",
    "# 2. Plot CatBoost Learning Curve\n",
    "model.plot_metrics()\n",
    "plt.show()\n",
    "\n",
    "# 3. Plot Optuna Optimization History\n",
    "fig = vis.plot_optimization_history(study)\n",
    "fig.show()\n",
    "\n",
    "# 4. Plot Optuna Parameter Importances\n",
    "fig = vis.plot_param_importances(study)\n",
    "fig.show()\n"
   ]
  },
  {
   "cell_type": "markdown",
   "id": "cbf4e64b",
   "metadata": {},
   "source": [
    "Bagging: Experiment with subsample and bootstrap_type"
   ]
  },
  {
   "cell_type": "code",
   "execution_count": null,
   "id": "ee7bc15b",
   "metadata": {},
   "outputs": [],
   "source": [
    "import numpy as np\n",
    "import pandas as pd\n",
    "from catboost import CatBoostClassifier, Pool\n",
    "from sklearn.metrics import roc_auc_score\n",
    "import matplotlib.pyplot as plt\n",
    "\n",
    "# Example pools (replace with your data)\n",
    "train_pool = Pool(X_train, y_train, cat_features=categorical_cols)\n",
    "val_pool = Pool(X_val, y_val, cat_features=categorical_cols)\n",
    "\n",
    "# Bagging configurations\n",
    "subsample_values = np.linspace(0.5, 1.0, 6)  # 0.5 to 1.0\n",
    "bootstrap_types = ['Bayesian', 'Bernoulli', 'MVS']\n",
    "\n",
    "results = []\n",
    "\n",
    "# Loop over bagging configurations\n",
    "for subsample in subsample_values:\n",
    "    for bootstrap_type in bootstrap_types:\n",
    "        # Train model\n",
    "        model = CatBoostClassifier(\n",
    "            iterations=200,\n",
    "            learning_rate=0.05,\n",
    "            depth=6,\n",
    "            bootstrap_type=bootstrap_type,\n",
    "            subsample=subsample,\n",
    "            random_seed=42,\n",
    "            verbose=0\n",
    "        )\n",
    "        model.fit(train_pool, eval_set=val_pool)\n",
    "        \n",
    "        # Predict and compute AUC\n",
    "        y_pred = model.predict_proba(val_pool)[:, 1]\n",
    "        auc = roc_auc_score(val_pool.get_label(), y_pred)\n",
    "        \n",
    "        # Store results\n",
    "        results.append((bootstrap_type, subsample, auc))\n",
    "\n",
    "# Convert to DataFrame\n",
    "results_df = pd.DataFrame(results, columns=['Bootstrap Type', 'Subsample', 'AUC'])\n",
    "\n",
    "# Plot results\n",
    "plt.figure(figsize=(10, 6))\n",
    "for bootstrap_type in bootstrap_types:\n",
    "    subset = results_df[results_df['Bootstrap Type'] == bootstrap_type]\n",
    "    plt.plot(subset['Subsample'], subset['AUC'], label=bootstrap_type, marker='o')\n",
    "\n",
    "plt.xlabel('Subsample')\n",
    "plt.ylabel('AUC')\n",
    "plt.title('Effect of Bagging on Model Performance (AUC)')\n",
    "plt.legend(title='Bootstrap Type')\n",
    "plt.grid()\n",
    "plt.show()\n"
   ]
  },
  {
   "cell_type": "markdown",
   "id": "d528b951",
   "metadata": {},
   "source": [
    "Boosting: Experiment with boosting_type and Track Learning Curve\n"
   ]
  },
  {
   "cell_type": "code",
   "execution_count": 42,
   "id": "5a8ea03e",
   "metadata": {},
   "outputs": [
    {
     "ename": "KeyError",
     "evalue": "'AUC'",
     "output_type": "error",
     "traceback": [
      "\u001b[0;31m---------------------------------------------------------------------------\u001b[0m",
      "\u001b[0;31mKeyError\u001b[0m                                  Traceback (most recent call last)",
      "Cell \u001b[0;32mIn[42], line 20\u001b[0m\n\u001b[1;32m     18\u001b[0m \u001b[38;5;66;03m# Get learning curve\u001b[39;00m\n\u001b[1;32m     19\u001b[0m metrics \u001b[38;5;241m=\u001b[39m model\u001b[38;5;241m.\u001b[39mget_evals_result()\n\u001b[0;32m---> 20\u001b[0m auc_values \u001b[38;5;241m=\u001b[39m \u001b[43mmetrics\u001b[49m\u001b[43m[\u001b[49m\u001b[38;5;124;43m'\u001b[39;49m\u001b[38;5;124;43mvalidation\u001b[39;49m\u001b[38;5;124;43m'\u001b[39;49m\u001b[43m]\u001b[49m\u001b[43m[\u001b[49m\u001b[38;5;124;43m'\u001b[39;49m\u001b[38;5;124;43mAUC\u001b[39;49m\u001b[38;5;124;43m'\u001b[39;49m\u001b[43m]\u001b[49m  \u001b[38;5;66;03m# Replace with 'Logloss' or another metric if needed\u001b[39;00m\n\u001b[1;32m     22\u001b[0m \u001b[38;5;66;03m# Plot learning curve\u001b[39;00m\n\u001b[1;32m     23\u001b[0m plt\u001b[38;5;241m.\u001b[39mplot(\u001b[38;5;28mrange\u001b[39m(\u001b[38;5;241m1\u001b[39m, \u001b[38;5;28mlen\u001b[39m(auc_values) \u001b[38;5;241m+\u001b[39m \u001b[38;5;241m1\u001b[39m), auc_values, label\u001b[38;5;241m=\u001b[39mboosting_type, marker\u001b[38;5;241m=\u001b[39m\u001b[38;5;124m'\u001b[39m\u001b[38;5;124mo\u001b[39m\u001b[38;5;124m'\u001b[39m)\n",
      "\u001b[0;31mKeyError\u001b[0m: 'AUC'"
     ]
    },
    {
     "data": {
      "text/plain": [
       "<Figure size 1000x600 with 0 Axes>"
      ]
     },
     "metadata": {},
     "output_type": "display_data"
    }
   ],
   "source": [
    "# Boosting configurations\n",
    "boosting_types = ['Ordered', 'Plain']\n",
    "\n",
    "plt.figure(figsize=(10, 6))\n",
    "\n",
    "for boosting_type in boosting_types:\n",
    "    # Train model\n",
    "    model = CatBoostClassifier(\n",
    "        iterations=200,\n",
    "        learning_rate=0.05,\n",
    "        depth=6,\n",
    "        boosting_type=boosting_type,\n",
    "        random_seed=42,\n",
    "        verbose=0\n",
    "    )\n",
    "    model.fit(train_pool, eval_set=val_pool, plot=False)  # Disable default plot\n",
    "    \n",
    "    # Get learning curve\n",
    "    metrics = model.get_evals_result()\n",
    "    auc_values = metrics['validation']['AUC']  # Replace with 'Logloss' or another metric if needed\n",
    "    \n",
    "    # Plot learning curve\n",
    "    plt.plot(range(1, len(auc_values) + 1), auc_values, label=boosting_type, marker='o')\n",
    "\n",
    "plt.xlabel('Iteration')\n",
    "plt.ylabel('AUC')\n",
    "plt.title('Learning Curve: Effect of Boosting Type on AUC')\n",
    "plt.legend(title='Boosting Type')\n",
    "plt.grid()\n",
    "plt.show()\n"
   ]
  },
  {
   "cell_type": "code",
   "execution_count": null,
   "id": "b891f01c",
   "metadata": {},
   "outputs": [
    {
     "name": "stdout",
     "output_type": "stream",
     "text": [
      "Collecting xgboost\n",
      "  Using cached xgboost-2.1.3-py3-none-macosx_12_0_arm64.whl.metadata (2.1 kB)\n",
      "Requirement already satisfied: numpy in /Users/indraniborra/.pyenv/versions/3.9.6/lib/python3.9/site-packages (from xgboost) (1.26.4)\n",
      "Requirement already satisfied: scipy in /Users/indraniborra/.pyenv/versions/3.9.6/lib/python3.9/site-packages (from xgboost) (1.13.1)\n",
      "Using cached xgboost-2.1.3-py3-none-macosx_12_0_arm64.whl (1.9 MB)\n",
      "Installing collected packages: xgboost\n",
      "Successfully installed xgboost-2.1.3\n",
      "Note: you may need to restart the kernel to use updated packages.\n",
      "Bagging Model Metrics:\n",
      "Accuracy: 0.9294444444444444\n",
      "ROC AUC: 0.9718530714285716\n",
      "[[6796  204]\n",
      " [ 431 1569]]\n",
      "              precision    recall  f1-score   support\n",
      "\n",
      "           0       0.94      0.97      0.96      7000\n",
      "           1       0.88      0.78      0.83      2000\n",
      "\n",
      "    accuracy                           0.93      9000\n",
      "   macro avg       0.91      0.88      0.89      9000\n",
      "weighted avg       0.93      0.93      0.93      9000\n",
      "\n",
      "\n",
      "Boosting Model (XGBoost) Metrics:\n",
      "Accuracy: 0.9327777777777778\n",
      "ROC AUC: 0.9767807857142856\n",
      "[[6823  177]\n",
      " [ 428 1572]]\n",
      "              precision    recall  f1-score   support\n",
      "\n",
      "           0       0.94      0.97      0.96      7000\n",
      "           1       0.90      0.79      0.84      2000\n",
      "\n",
      "    accuracy                           0.93      9000\n",
      "   macro avg       0.92      0.88      0.90      9000\n",
      "weighted avg       0.93      0.93      0.93      9000\n",
      "\n"
     ]
    },
    {
     "data": {
      "image/png": "[encoded data removed]",
      "text/plain": [
       "<Figure size 1000x800 with 1 Axes>"
      ]
     },
     "metadata": {},
     "output_type": "display_data"
    },
    {
     "ename": "XGBoostError",
     "evalue": "No evaluation result, `eval_set` is not used during training.",
     "output_type": "error",
     "traceback": [
      "\u001b[0;31m---------------------------------------------------------------------------\u001b[0m",
      "\u001b[0;31mXGBoostError\u001b[0m                              Traceback (most recent call last)",
      "Cell \u001b[0;32mIn[41], line 56\u001b[0m\n\u001b[1;32m     53\u001b[0m plt\u001b[38;5;241m.\u001b[39mshow()\n\u001b[1;32m     55\u001b[0m \u001b[38;5;66;03m# Learning Curve (XGBoost)\u001b[39;00m\n\u001b[0;32m---> 56\u001b[0m results \u001b[38;5;241m=\u001b[39m \u001b[43mxgboost_model\u001b[49m\u001b[38;5;241;43m.\u001b[39;49m\u001b[43mevals_result\u001b[49m\u001b[43m(\u001b[49m\u001b[43m)\u001b[49m\n\u001b[1;32m     57\u001b[0m plt\u001b[38;5;241m.\u001b[39mplot(results[\u001b[38;5;124m'\u001b[39m\u001b[38;5;124mvalidation_0\u001b[39m\u001b[38;5;124m'\u001b[39m][\u001b[38;5;124m'\u001b[39m\u001b[38;5;124merror\u001b[39m\u001b[38;5;124m'\u001b[39m], label\u001b[38;5;241m=\u001b[39m\u001b[38;5;124m'\u001b[39m\u001b[38;5;124mTrain Error\u001b[39m\u001b[38;5;124m'\u001b[39m)\n\u001b[1;32m     58\u001b[0m plt\u001b[38;5;241m.\u001b[39mplot(results[\u001b[38;5;124m'\u001b[39m\u001b[38;5;124mvalidation_1\u001b[39m\u001b[38;5;124m'\u001b[39m][\u001b[38;5;124m'\u001b[39m\u001b[38;5;124merror\u001b[39m\u001b[38;5;124m'\u001b[39m], label\u001b[38;5;241m=\u001b[39m\u001b[38;5;124m'\u001b[39m\u001b[38;5;124mTest Error\u001b[39m\u001b[38;5;124m'\u001b[39m)\n",
      "File \u001b[0;32m~/.pyenv/versions/3.9.6/lib/python3.9/site-packages/xgboost/sklearn.py:1278\u001b[0m, in \u001b[0;36mXGBModel.evals_result\u001b[0;34m(self)\u001b[0m\n\u001b[1;32m   1276\u001b[0m     evals_result \u001b[38;5;241m=\u001b[39m \u001b[38;5;28mself\u001b[39m\u001b[38;5;241m.\u001b[39mevals_result_\n\u001b[1;32m   1277\u001b[0m \u001b[38;5;28;01melse\u001b[39;00m:\n\u001b[0;32m-> 1278\u001b[0m     \u001b[38;5;28;01mraise\u001b[39;00m XGBoostError(\n\u001b[1;32m   1279\u001b[0m         \u001b[38;5;124m\"\u001b[39m\u001b[38;5;124mNo evaluation result, `eval_set` is not used during training.\u001b[39m\u001b[38;5;124m\"\u001b[39m\n\u001b[1;32m   1280\u001b[0m     )\n\u001b[1;32m   1282\u001b[0m \u001b[38;5;28;01mreturn\u001b[39;00m evals_result\n",
      "\u001b[0;31mXGBoostError\u001b[0m: No evaluation result, `eval_set` is not used during training."
     ]
    }
   ],
   "source": [
    "import pandas as pd\n",
    "import numpy as np\n",
    "from sklearn.model_selection import train_test_split\n",
    "from sklearn.metrics import accuracy_score, roc_auc_score, confusion_matrix, classification_report\n",
    "from sklearn.ensemble import BaggingClassifier\n",
    "from xgboost import XGBClassifier\n",
    "import matplotlib.pyplot as plt\n",
    "import seaborn as sns\n",
    "\n",
    "# Load your dataset (replace with the actual path or DataFrame object)\n",
    "# Assuming your dataset is named `df`\n",
    "# df = pd.read_csv('path_to_your_dataset.csv')\n",
    "\n",
    "# Prepare the dataset\n",
    "X = df.drop(columns=['loan_status'])  # Features\n",
    "y = df['loan_status']  # Target variable\n",
    "\n",
    "# Split the dataset into training and testing sets\n",
    "X_train, X_test, y_train, y_test = train_test_split(X, y, test_size=0.2, random_state=42, stratify=y)\n",
    "\n",
    "# Bagging Classifier\n",
    "bagging_model = BaggingClassifier(n_estimators=50, random_state=42)\n",
    "bagging_model.fit(X_train, y_train)\n",
    "y_pred_bagging = bagging_model.predict(X_test)\n",
    "\n",
    "# Boosting Classifier (XGBoost)\n",
    "xgboost_model = XGBClassifier(n_estimators=100, learning_rate=0.1, max_depth=6, random_state=42)\n",
    "xgboost_model.fit(X_train, y_train)\n",
    "y_pred_boosting = xgboost_model.predict(X_test)\n",
    "y_pred_proba_boosting = xgboost_model.predict_proba(X_test)[:, 1]\n",
    "\n",
    "# Evaluation Metrics\n",
    "print(\"Bagging Model Metrics:\")\n",
    "print(\"Accuracy:\", accuracy_score(y_test, y_pred_bagging))\n",
    "print(\"ROC AUC:\", roc_auc_score(y_test, bagging_model.predict_proba(X_test)[:, 1]))\n",
    "print(confusion_matrix(y_test, y_pred_bagging))\n",
    "print(classification_report(y_test, y_pred_bagging))\n",
    "\n",
    "print(\"\\nBoosting Model (XGBoost) Metrics:\")\n",
    "print(\"Accuracy:\", accuracy_score(y_test, y_pred_boosting))\n",
    "print(\"ROC AUC:\", roc_auc_score(y_test, y_pred_proba_boosting))\n",
    "print(confusion_matrix(y_test, y_pred_boosting))\n",
    "print(classification_report(y_test, y_pred_boosting))\n",
    "\n",
    "# Visualization\n",
    "# Feature Importance (XGBoost)\n",
    "plt.figure(figsize=(10, 8))\n",
    "importance = xgboost_model.feature_importances_\n",
    "sns.barplot(x=importance, y=X.columns)\n",
    "plt.title(\"Feature Importance - XGBoost\")\n",
    "plt.show()\n",
    "\n",
    "# Learning Curve (XGBoost)\n",
    "results = xgboost_model.evals_result()\n",
    "plt.plot(results['validation_0']['error'], label='Train Error')\n",
    "plt.plot(results['validation_1']['error'], label='Test Error')\n",
    "plt.title('Learning Curve - XGBoost')\n",
    "plt.xlabel('Boosting Rounds')\n",
    "plt.ylabel('Error')\n",
    "plt.legend()\n",
    "plt.show()\n",
    "\n",
    "# Confusion Matrix Heatmap for Bagging\n",
    "plt.figure(figsize=(6, 6))\n",
    "sns.heatmap(confusion_matrix(y_test, y_pred_bagging), annot=True, fmt='d', cmap='Blues')\n",
    "plt.title(\"Confusion Matrix - Bagging\")\n",
    "plt.xlabel(\"Predicted\")\n",
    "plt.ylabel(\"Actual\")\n",
    "plt.show()\n",
    "\n",
    "# Confusion Matrix Heatmap for Boosting\n",
    "plt.figure(figsize=(6, 6))\n",
    "sns.heatmap(confusion_matrix(y_test, y_pred_boosting), annot=True, fmt='d', cmap='Blues')\n",
    "plt.title(\"Confusion Matrix - Boosting\")\n",
    "plt.xlabel(\"Predicted\")\n",
    "plt.ylabel(\"Actual\")\n",
    "plt.show()\n"
   ]
  }
 ],
 "metadata": {
  "kaggle": {
   "accelerator": "none",
   "dataSources": [
    {
     "datasetId": 5969230,
     "sourceId": 9750039,
     "sourceType": "datasetVersion"
    }
   ],
   "dockerImageVersionId": 30786,
   "isGpuEnabled": false,
   "isInternetEnabled": true,
   "language": "python",
   "sourceType": "notebook"
  },
  "kernelspec": {
   "display_name": "3.9.6",
   "language": "python",
   "name": "python3"
  },
  "language_info": {
   "codemirror_mode": {
    "name": "ipython",
    "version": 3
   },
   "file_extension": ".py",
   "mimetype": "text/x-python",
   "name": "python",
   "nbconvert_exporter": "python",
   "pygments_lexer": "ipython3",
   "version": "3.9.6"
  },
  "papermill": {
   "default_parameters": {},
   "duration": 145.828689,
   "end_time": "2024-11-21T14:48:55.277366",
   "environment_variables": {},
   "exception": null,
   "input_path": "__notebook__.ipynb",
   "output_path": "__notebook__.ipynb",
   "parameters": {},
   "start_time": "2024-11-21T14:46:29.448677",
   "version": "2.6.0"
  }
 },
 "nbformat": 4,
 "nbformat_minor": 5
}
